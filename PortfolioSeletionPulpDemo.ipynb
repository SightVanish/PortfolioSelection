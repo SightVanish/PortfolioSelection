{
 "cells": [
  {
   "cell_type": "code",
   "execution_count": 1,
   "id": "7506cd9f",
   "metadata": {},
   "outputs": [],
   "source": [
    "%%capture\n",
    "%pip install - r requirement.txt\n",
    "# python==3.6.13"
   ]
  },
  {
   "cell_type": "code",
   "execution_count": 2,
   "id": "7a176540",
   "metadata": {},
   "outputs": [],
   "source": [
    "import numpy as np\n",
    "import pandas as pd\n",
    "from pulp import LpProblem, LpVariable, lpSum, LpMaximize, LpMinimize, LpBinary, LpStatus, value, PULP_CBC_CMD\n",
    "import pulp as pl\n",
    "import time\n",
    "import heapq\n",
    "import json\n",
    "import psycopg2\n",
    "import psycopg2.extras\n",
    "\n",
    "debug = 1  # debug mode\n",
    "TIMEOUT = 500 # timeout \n",
    "if debug:\n",
    "    pd.set_option('display.max_columns', 500)  # show all columns\n",
    "\n",
    "numLimit = 5\n",
    "sql_command1 = \"select billing_status_fz as billing, unit_id_fz, product, fleet_year_fz as fleet_year, contract_cust_id as customer, contract_lease_type as contract, cost, nbv, age_x_ceu as weighted_age from ads.ads_bo_asset_init\" \n",
    "\n",
    "n = 100000 # number of containers"
   ]
  },
  {
   "cell_type": "markdown",
   "id": "16db461a",
   "metadata": {},
   "source": [
    "### INPUT"
   ]
  },
  {
   "cell_type": "markdown",
   "id": "c82adc39",
   "metadata": {},
   "source": [
    "#### Parameters\n",
    "\n",
    "TODO: load from database and POST"
   ]
  },
  {
   "cell_type": "code",
   "execution_count": 3,
   "id": "fa5ce414",
   "metadata": {},
   "outputs": [],
   "source": [
    "with open(\"./parameterDemo.json\") as f:\n",
    "    paramDict = json.load(f)"
   ]
  },
  {
   "cell_type": "code",
   "execution_count": 4,
   "id": "6f1f980e",
   "metadata": {},
   "outputs": [],
   "source": [
    "queryID = paramDict['query_id']\n",
    "initialQuery = paramDict['initial_query']\n",
    "# TODO: link to database system\n",
    "param = paramDict['secondary_query']\n",
    "NbvCost = param['prefer']['NBVOrCost']\n",
    "maxOrMin = param['prefer']['maxOrMin']\n",
    "\n",
    "fleetAgeLowBound = [None for _ in range(numLimit)]\n",
    "fleetAgeUpBound = [None for _ in range(numLimit)]\n",
    "fleetAgeLimit = [None for _ in range(numLimit)]\n",
    "fleetAgeGeq = [None for _ in range(numLimit)]\n",
    "weightedAgeLowBound = [None for _ in range(numLimit)]\n",
    "weightedAgeUpBound = [None for _ in range(numLimit)]\n",
    "weightedAgeLimit = [None for _ in range(numLimit)]\n",
    "weightedAgeGeq = [None for _ in range(numLimit)]\n",
    "lesseeType = [None for _ in range(numLimit)]\n",
    "lesseeLimit = [None for _ in range(numLimit)]\n",
    "lesseeGeq = [None for _ in range(numLimit)]\n",
    "productType = [None for _ in range(numLimit)]\n",
    "productLimit = [None for _ in range(numLimit)]\n",
    "productGeq = [None for _ in range(numLimit)]\n",
    "contractType = [None for _ in range(numLimit)]\n",
    "contractLimit = [None for _ in range(numLimit)]\n",
    "contractGeq = [None for _ in range(numLimit)]\n",
    "\n",
    "minTotalNbv = param['totalNBVFrom'] if param['totalNBVFrom'] else None\n",
    "maxTotalNbv = param['totalNBVTo'] if param['totalNBVTo'] else None\n",
    "\n",
    "minTotalCost = param['totalCostFrom'] if param['totalCostFrom'] else None\n",
    "maxTotalCost = param['totalCostTo'] if param['totalCostTo'] else None\n",
    "\n",
    "fleetAgeAvgLimit = param['containersAge']['average']['averageWeighedAge'] if param['containersAge']['average']['averageWeighedAge'] else None\n",
    "fleetAgeAvgGeq = param['containersAge']['average']['symbol']\n",
    "for i in range(len(param['containersAge']['list'])):\n",
    "    fleetAgeLowBound[i] = param['containersAge']['list'][i]['containersAgeFrom']\n",
    "    fleetAgeUpBound[i] = param['containersAge']['list'][i]['containersAgeTo']\n",
    "    fleetAgeLimit[i] = param['containersAge']['list'][i]['%'] / 100\n",
    "    fleetAgeGeq[i] = param['containersAge']['list'][i]['symbol']\n",
    "\n",
    "weightedAgeAvgLimit = param['weightedAge']['average']['averageWeighedAge'] if param['weightedAge']['average']['averageWeighedAge'] else None\n",
    "weightedAgeAvgGeq = param['weightedAge']['average']['symbol']\n",
    "for i in range(len(param['weightedAge']['list'])):\n",
    "    weightedAgeLowBound[i] = param['weightedAge']['list'][i]['weightedAgeFrom']\n",
    "    weightedAgeUpBound[i] = param['weightedAge']['list'][i]['weightedAgeTo']\n",
    "    weightedAgeLimit[i] = param['weightedAge']['list'][i]['%'] / 100\n",
    "    weightedAgeGeq[i] = param['weightedAge']['list'][i]['symbol']\n",
    "\n",
    "topLesseeLimit = [param['TopLessee'][0]['%'] / 100 if param['TopLessee'][0]['Top1'] else None,\n",
    "               param['TopLessee'][1]['%'] / 100 if param['TopLessee'][1]['Top2'] else None,\n",
    "               param['TopLessee'][2]['%'] / 100 if param['TopLessee'][2]['Top3'] else None]\n",
    "topLesseeGeq = [param['TopLessee'][0]['symbol'] if param['TopLessee'][0]['Top1'] else None,\n",
    "             param['TopLessee'][1]['symbol'] if param['TopLessee'][1]['Top2'] else None,\n",
    "             param['TopLessee'][2]['symbol'] if param['TopLessee'][2]['Top3'] else None]\n",
    "for i in range(len(param['lessee'])):\n",
    "    lesseeType[i] = param['lessee'][i]['lessee']\n",
    "    lesseeLimit[i] = param['lessee'][i]['%'] / 100\n",
    "    lesseeGeq[i] = param['lessee'][i]['symbol']\n",
    "\n",
    "OnHireLimit = param['status'][0]['%'] / 100 if param['status'][0]['onhire'] else None\n",
    "OffHireLimit = param['status'][1]['%'] / 100 if param['status'][1]['offhire'] else None\n",
    "NoneHireLimit = param['status'][2]['%'] / 100 if param['status'][2]['none'] else None\n",
    "\n",
    "for i in range(len(param['product'])):\n",
    "    productType[i] = param['product'][i]['productType']\n",
    "    productLimit[i] = param['product'][i]['%'] / 100\n",
    "    productGeq[i] = param['product'][i]['symbol']\n",
    "\n",
    "for i in range(len(param['contractType'])):\n",
    "    contractType[i] = param['contractType'][i]['contractType']\n",
    "    contractLimit[i] = param['contractType'][i]['%'] / 100\n",
    "    contractGeq[i] = param['contractType'][i]['symbol']"
   ]
  },
  {
   "cell_type": "markdown",
   "id": "6b928c18",
   "metadata": {},
   "source": [
    "#### Load Data"
   ]
  },
  {
   "cell_type": "code",
   "execution_count": 10,
   "id": "41d14a5d",
   "metadata": {},
   "outputs": [],
   "source": [
    "try:\n",
    "    conn = psycopg2.connect(host = \"10.18.35.245\", port = \"5432\", dbname = \"iflorensgp_gy\", user = \"flgyads\", password = \"flgyads!0920\")\n",
    "    rawdata = pd.read_sql(sql_command1, conn)[:n]\n",
    "    conn.close()\n",
    "except:\n",
    "    print(\"Load data from GreenPlum failure !\")"
   ]
  },
  {
   "cell_type": "code",
   "execution_count": null,
   "id": "383223ed",
   "metadata": {},
   "outputs": [
    {
     "ename": "NameError",
     "evalue": "name 'rawData' is not defined",
     "output_type": "error",
     "traceback": [
      "\u001b[0;31m---------------------------------------------------------------------------\u001b[0m",
      "\u001b[0;31mNameError\u001b[0m                                 Traceback (most recent call last)",
      "\u001b[0;32m<ipython-input-9-b26c2048ce10>\u001b[0m in \u001b[0;36m<module>\u001b[0;34m\u001b[0m\n\u001b[1;32m      2\u001b[0m \u001b[0;31m# data = rawData.iloc[:n].reset_index()\u001b[0m\u001b[0;34m\u001b[0m\u001b[0;34m\u001b[0m\u001b[0;34m\u001b[0m\u001b[0m\n\u001b[1;32m      3\u001b[0m \u001b[0;31m# data.drop('index', axis=1, inplace=True)\u001b[0m\u001b[0;34m\u001b[0m\u001b[0;34m\u001b[0m\u001b[0;34m\u001b[0m\u001b[0m\n\u001b[0;32m----> 4\u001b[0;31m \u001b[0mdata\u001b[0m \u001b[0;34m=\u001b[0m \u001b[0mrawData\u001b[0m\u001b[0;34m[\u001b[0m\u001b[0;34m:\u001b[0m\u001b[0mn\u001b[0m\u001b[0;34m]\u001b[0m\u001b[0;34m\u001b[0m\u001b[0;34m\u001b[0m\u001b[0m\n\u001b[0m\u001b[1;32m      5\u001b[0m \u001b[0mdata\u001b[0m\u001b[0;34m.\u001b[0m\u001b[0mhead\u001b[0m\u001b[0;34m(\u001b[0m\u001b[0;36m3\u001b[0m\u001b[0;34m)\u001b[0m\u001b[0;34m\u001b[0m\u001b[0;34m\u001b[0m\u001b[0m\n",
      "\u001b[0;31mNameError\u001b[0m: name 'rawData' is not defined"
     ]
    }
   ],
   "source": [
    "# rawData = pd.read_excel(io='./20220630_Overall_Fleet_(FIR)_FCI_combined(with planned)_iflorens_simplified.xlsb', sheet_name='Raw', engine='pyxlsb')\n",
    "# data = rawData.iloc[:n].reset_index()\n",
    "# data.drop('index', axis=1, inplace=True)\n",
    "data = rawData[:n]\n",
    "data.head(3)"
   ]
  },
  {
   "cell_type": "markdown",
   "id": "ead6233f",
   "metadata": {},
   "source": [
    "### DATA PREPARATION"
   ]
  },
  {
   "cell_type": "markdown",
   "id": "6ac68229",
   "metadata": {},
   "source": [
    "#### Container Age\n",
    "\n",
    "Assign to `FleetAge{0}.format(i)`"
   ]
  },
  {
   "cell_type": "code",
   "execution_count": 84,
   "id": "5045e0f2",
   "metadata": {},
   "outputs": [
    {
     "name": "stdout",
     "output_type": "stream",
     "text": [
      "FleetAge0\n",
      "FleetAge1\n"
     ]
    }
   ],
   "source": [
    "for i in range(5):\n",
    "    if fleetAgeLimit[i]:\n",
    "        column_name = 'FleetAge{0}'.format(i)\n",
    "        data[column_name] = data['fleet_year'].apply(lambda x: 1 if fleetAgeLowBound[i]<=x<fleetAgeUpBound[i] else 0)"
   ]
  },
  {
   "cell_type": "markdown",
   "id": "471e6e2d",
   "metadata": {},
   "source": [
    "#### Status\n",
    "\n",
    "Assign new column `Status`"
   ]
  },
  {
   "cell_type": "code",
   "execution_count": 85,
   "id": "74adcb75",
   "metadata": {},
   "outputs": [],
   "source": [
    "data['OnHireStatus'] = data['billing'].apply(lambda x: 1 if x=='ON' else 0)\n",
    "data['OffHireStatus'] = data['billing'].apply(lambda x: 1 if x=='OF' else 0)\n",
    "data['NoneStatus'] = data['billing'].apply(lambda x: 1 if pd.isna(x) else 0)"
   ]
  },
  {
   "cell_type": "markdown",
   "id": "9a7f829e",
   "metadata": {},
   "source": [
    "#### Weighted Age\n",
    "\n",
    "Assign new column `WeightedAge{0}.format(i)`"
   ]
  },
  {
   "cell_type": "code",
   "execution_count": null,
   "id": "54a6e04d",
   "metadata": {},
   "outputs": [
    {
     "name": "stdout",
     "output_type": "stream",
     "text": [
      "WeightedAge0\n",
      "WeightedAge1\n"
     ]
    }
   ],
   "source": [
    "for i in range(5):\n",
    "    if weightedAgeLimit[i]:\n",
    "        column_name = 'WeightedAge{0}'.format(i)\n",
    "        data[column_name] = data['weighted_age'].apply(lambda x: 1 if weightedAgeLowBound[i]<=x<weightedAgeUpBound[i] else 0)\n"
   ]
  },
  {
   "cell_type": "markdown",
   "id": "e9865ef5",
   "metadata": {},
   "source": [
    "#### Product\n",
    "\n",
    "Assign new column `ProductType{0}.format(i)`"
   ]
  },
  {
   "cell_type": "code",
   "execution_count": 87,
   "id": "5609ae15",
   "metadata": {},
   "outputs": [
    {
     "name": "stdout",
     "output_type": "stream",
     "text": [
      "ProductType0\n",
      "ProductType1\n"
     ]
    }
   ],
   "source": [
    "for i in range(5):\n",
    "    if productLimit[i]:\n",
    "        column_name = 'ProductType{0}'.format(i)\n",
    "        data[column_name] = data['product'].apply(lambda x: 1 if x in productType[i] else 0)"
   ]
  },
  {
   "cell_type": "markdown",
   "id": "5324bd6c",
   "metadata": {},
   "source": [
    "#### Lessee\n",
    "\n",
    "Assign new column `Lessee{0}.format(i)`"
   ]
  },
  {
   "cell_type": "code",
   "execution_count": 88,
   "id": "73ffaea8",
   "metadata": {},
   "outputs": [],
   "source": [
    "# ONE HOT -- all lessee\n",
    "for lesseeName in data['customer'].value_counts().index:\n",
    "    data[lesseeName] = data['customer'].apply(lambda x: 1 if x==lesseeName else 0)\n"
   ]
  },
  {
   "cell_type": "markdown",
   "id": "382ab2be",
   "metadata": {},
   "source": [
    "#### Contract Type\n",
    "\n",
    "Assign new column `ContractType{0}.format(i)`"
   ]
  },
  {
   "cell_type": "code",
   "execution_count": 89,
   "id": "56515853",
   "metadata": {},
   "outputs": [
    {
     "name": "stdout",
     "output_type": "stream",
     "text": [
      "ContractType0\n",
      "ContractType1\n"
     ]
    }
   ],
   "source": [
    "for i in range(5):\n",
    "    if contractLimit[i]:\n",
    "        column_name = 'ContractType{0}'.format(i)\n",
    "        data[column_name] = data['contract'].apply(lambda x: 1 if x in contractType[i] else 0)"
   ]
  },
  {
   "cell_type": "markdown",
   "id": "3aaac1ae",
   "metadata": {},
   "source": [
    "### SAVE DATA"
   ]
  },
  {
   "cell_type": "code",
   "execution_count": 90,
   "id": "c0d4a4be",
   "metadata": {},
   "outputs": [
    {
     "data": {
      "text/html": [
       "<div>\n",
       "<style scoped>\n",
       "    .dataframe tbody tr th:only-of-type {\n",
       "        vertical-align: middle;\n",
       "    }\n",
       "\n",
       "    .dataframe tbody tr th {\n",
       "        vertical-align: top;\n",
       "    }\n",
       "\n",
       "    .dataframe thead th {\n",
       "        text-align: right;\n",
       "    }\n",
       "</style>\n",
       "<table border=\"1\" class=\"dataframe\">\n",
       "  <thead>\n",
       "    <tr style=\"text-align: right;\">\n",
       "      <th></th>\n",
       "      <th>Unnamed: 0</th>\n",
       "      <th>Unit Id Fz</th>\n",
       "      <th>Cost</th>\n",
       "      <th>Product</th>\n",
       "      <th>Contract Cust Id</th>\n",
       "      <th>Contract Lease Type</th>\n",
       "      <th>Nbv</th>\n",
       "      <th>Billing Status Fz</th>\n",
       "      <th>Fleet Year Fz</th>\n",
       "      <th>Age x CEU</th>\n",
       "      <th>FleetAge0</th>\n",
       "      <th>FleetAge1</th>\n",
       "      <th>OnHireStatus</th>\n",
       "      <th>OffHireStatus</th>\n",
       "      <th>NoneStatus</th>\n",
       "      <th>WeightedAge0</th>\n",
       "      <th>WeightedAge1</th>\n",
       "      <th>ProductType0</th>\n",
       "      <th>ProductType1</th>\n",
       "      <th>MSC</th>\n",
       "      <th>ContractType0</th>\n",
       "      <th>ContractType1</th>\n",
       "    </tr>\n",
       "  </thead>\n",
       "  <tbody>\n",
       "    <tr>\n",
       "      <th>0</th>\n",
       "      <td>0</td>\n",
       "      <td>MSDU2865003</td>\n",
       "      <td>3690.0</td>\n",
       "      <td>D20</td>\n",
       "      <td>MSC</td>\n",
       "      <td>LP</td>\n",
       "      <td>3635.841</td>\n",
       "      <td>ON</td>\n",
       "      <td>0.52</td>\n",
       "      <td>0.52</td>\n",
       "      <td>1</td>\n",
       "      <td>0</td>\n",
       "      <td>1</td>\n",
       "      <td>0</td>\n",
       "      <td>0</td>\n",
       "      <td>0</td>\n",
       "      <td>0</td>\n",
       "      <td>0</td>\n",
       "      <td>1</td>\n",
       "      <td>1</td>\n",
       "      <td>0</td>\n",
       "      <td>1</td>\n",
       "    </tr>\n",
       "    <tr>\n",
       "      <th>1</th>\n",
       "      <td>1</td>\n",
       "      <td>MSDU2865019</td>\n",
       "      <td>3690.0</td>\n",
       "      <td>D20</td>\n",
       "      <td>MSC</td>\n",
       "      <td>LP</td>\n",
       "      <td>3635.841</td>\n",
       "      <td>ON</td>\n",
       "      <td>0.52</td>\n",
       "      <td>0.52</td>\n",
       "      <td>1</td>\n",
       "      <td>0</td>\n",
       "      <td>1</td>\n",
       "      <td>0</td>\n",
       "      <td>0</td>\n",
       "      <td>0</td>\n",
       "      <td>0</td>\n",
       "      <td>0</td>\n",
       "      <td>1</td>\n",
       "      <td>1</td>\n",
       "      <td>0</td>\n",
       "      <td>1</td>\n",
       "    </tr>\n",
       "    <tr>\n",
       "      <th>2</th>\n",
       "      <td>2</td>\n",
       "      <td>MSDU2865030</td>\n",
       "      <td>3690.0</td>\n",
       "      <td>D20</td>\n",
       "      <td>MSC</td>\n",
       "      <td>LP</td>\n",
       "      <td>3635.841</td>\n",
       "      <td>ON</td>\n",
       "      <td>0.52</td>\n",
       "      <td>0.52</td>\n",
       "      <td>1</td>\n",
       "      <td>0</td>\n",
       "      <td>1</td>\n",
       "      <td>0</td>\n",
       "      <td>0</td>\n",
       "      <td>0</td>\n",
       "      <td>0</td>\n",
       "      <td>0</td>\n",
       "      <td>1</td>\n",
       "      <td>1</td>\n",
       "      <td>0</td>\n",
       "      <td>1</td>\n",
       "    </tr>\n",
       "  </tbody>\n",
       "</table>\n",
       "</div>"
      ],
      "text/plain": [
       "   Unnamed: 0   Unit Id Fz    Cost Product Contract Cust Id  \\\n",
       "0           0  MSDU2865003  3690.0     D20              MSC   \n",
       "1           1  MSDU2865019  3690.0     D20              MSC   \n",
       "2           2  MSDU2865030  3690.0     D20              MSC   \n",
       "\n",
       "  Contract Lease Type       Nbv Billing Status Fz  Fleet Year Fz  Age x CEU  \\\n",
       "0                  LP  3635.841                ON           0.52       0.52   \n",
       "1                  LP  3635.841                ON           0.52       0.52   \n",
       "2                  LP  3635.841                ON           0.52       0.52   \n",
       "\n",
       "   FleetAge0  FleetAge1  OnHireStatus  OffHireStatus  NoneStatus  \\\n",
       "0          1          0             1              0           0   \n",
       "1          1          0             1              0           0   \n",
       "2          1          0             1              0           0   \n",
       "\n",
       "   WeightedAge0  WeightedAge1  ProductType0  ProductType1  MSC  ContractType0  \\\n",
       "0             0             0             0             1    1              0   \n",
       "1             0             0             0             1    1              0   \n",
       "2             0             0             0             1    1              0   \n",
       "\n",
       "   ContractType1  \n",
       "0              1  \n",
       "1              1  \n",
       "2              1  "
      ]
     },
     "execution_count": 90,
     "metadata": {},
     "output_type": "execute_result"
    }
   ],
   "source": [
    "if debug:\n",
    "    data.to_csv('prepared_data_demo.csv')\n",
    "    data = pd.read_csv('./prepared_data_demo.csv')\n",
    "data.head(3)"
   ]
  },
  {
   "cell_type": "markdown",
   "id": "e5be8c24",
   "metadata": {},
   "source": [
    "### Model Part"
   ]
  },
  {
   "cell_type": "markdown",
   "id": "827f1e64",
   "metadata": {},
   "source": [
    "#### Prepare Parameters\n",
    "\n",
    "convert to numpy"
   ]
  },
  {
   "cell_type": "code",
   "execution_count": 91,
   "id": "371d7526",
   "metadata": {},
   "outputs": [
    {
     "name": "stdout",
     "output_type": "stream",
     "text": [
      "nbv: (100000,)\n",
      "cost: (100000,)\n",
      "onHireStatus: (100000,)\n",
      "offHireStatus: (100000,)\n",
      "noneHireStatus: (100000,)\n",
      "fleetAgeAvg: (100000,)\n",
      "weightedAgeAvg: (100000,)\n",
      "fleetAge: [array([1, 1, 1, ..., 1, 1, 1]), array([0, 0, 0, ..., 0, 0, 0]), None, None, None]\n",
      "weightedAge: [array([0, 0, 0, ..., 0, 0, 0]), array([0, 0, 0, ..., 0, 0, 0]), None, None, None]\n",
      "productType: [array([0, 0, 0, ..., 1, 1, 1]), array([1, 1, 1, ..., 0, 0, 0]), None, None, None]\n",
      "contractType: [array([0, 0, 0, ..., 1, 1, 1]), array([1, 1, 1, ..., 0, 0, 0]), None, None, None]\n"
     ]
    }
   ],
   "source": [
    "nbv = data['nbv'].to_numpy()\n",
    "cost = data['cost'].to_numpy()\n",
    "onHireStatus = data['OnHireStatus'].to_numpy()\n",
    "offHireStatus = data['OffHireStatus'].to_numpy()\n",
    "noneHireStatus = data['NoneStatus'].to_numpy()\n",
    "\n",
    "fleetAge = []\n",
    "weightedAge = []\n",
    "product = []\n",
    "contract = []\n",
    "for i in range(numLimit):\n",
    "    fleetAge.append(data['FleetAge{0}'.format(i)].to_numpy() if fleetAgeLimit[i] else None)\n",
    "    weightedAge.append(data['WeightedAge{0}'.format(i)].to_numpy() if weightedAgeLimit[i] else None)\n",
    "    product.append(data['ProductType{0}'.format(i)].to_numpy() if productLimit[i] else None)\n",
    "    contract.append(data['ContractType{0}'.format(i)].to_numpy() if contractLimit[i] else None)\n",
    "\n",
    "fleetAgeAvg = data['fleet_year'].to_numpy()\n",
    "weightedAgeAvg = data['weighted_age'].to_numpy()\n",
    "\n",
    "lesseeOneHot = {lesseeName: data[lesseeName].to_numpy() for lesseeName in data['customer'].value_counts().index}\n",
    "\n",
    "\n",
    "if debug:\n",
    "    print('nbv:', nbv.shape)\n",
    "    print('cost:', cost.shape)\n",
    "    print('onHireStatus:', onHireStatus.shape)\n",
    "    print('offHireStatus:', offHireStatus.shape)\n",
    "    print('noneHireStatus:', noneHireStatus.shape)\n",
    "    print('fleetAgeAvg:', fleetAgeAvg.shape)\n",
    "    print('weightedAgeAvg:', weightedAgeAvg.shape)\n",
    "\n",
    "    print('fleetAge:', fleetAge)\n",
    "    print('weightedAge:', weightedAge)\n",
    "    print('productType:', product)\n",
    "    print('contractType:', contract)"
   ]
  },
  {
   "cell_type": "markdown",
   "id": "5fcaa310",
   "metadata": {},
   "source": [
    "#### Constraints\n",
    "\n",
    "#### Objective\n",
    "\n",
    "1. min Cost: `Vars @ cost`\n",
    "\n",
    "2. max Nbv: `Vars @ nbv`"
   ]
  },
  {
   "cell_type": "markdown",
   "id": "0a6259cb",
   "metadata": {},
   "source": [
    "#### Define Problem"
   ]
  },
  {
   "cell_type": "code",
   "execution_count": 108,
   "id": "bd68cb97",
   "metadata": {},
   "outputs": [],
   "source": [
    "def SortTop(l, n):\n",
    "    topN = heapq.nlargest(n, l, key=lambda x:x[1])\n",
    "    return np.sum(np.stack([lesseeOneHot[topN[i][0]] for i in range(n)]), axis=0)\n"
   ]
  },
  {
   "cell_type": "code",
   "execution_count": 109,
   "id": "fb5c41ac",
   "metadata": {},
   "outputs": [],
   "source": [
    "var = np.array([LpVariable('container_{0}'.format(i), lowBound=0, cat=LpBinary) for i in range(nbv.shape[0])])\n",
    "prob = LpProblem(\"MyProblem\", LpMaximize if maxOrMin else LpMinimize)"
   ]
  },
  {
   "cell_type": "markdown",
   "id": "571ce51a",
   "metadata": {},
   "source": [
    "TODO: remove warm up part, fix with warm start."
   ]
  },
  {
   "cell_type": "code",
   "execution_count": 110,
   "id": "1a51124b",
   "metadata": {},
   "outputs": [
    {
     "data": {
      "text/plain": [
       "1"
      ]
     },
     "execution_count": 110,
     "metadata": {},
     "output_type": "execute_result"
    }
   ],
   "source": [
    "warmProb = LpProblem(\"WarmProblem\", LpMaximize)\n",
    "warmProb += lpSum(var * 1)\n",
    "warmProb.solve(PULP_CBC_CMD(msg = False, timeLimit=1))"
   ]
  },
  {
   "cell_type": "code",
   "execution_count": 111,
   "id": "36c22fef",
   "metadata": {},
   "outputs": [],
   "source": [
    "# objective function \n",
    "if NbvCost:\n",
    "    prob += lpSum(var * nbv)\n",
    "else:\n",
    "    prob += lpSum(var * cost)"
   ]
  },
  {
   "cell_type": "code",
   "execution_count": 112,
   "id": "71bb15b6",
   "metadata": {},
   "outputs": [
    {
     "name": "stdout",
     "output_type": "stream",
     "text": [
      "[('MSC', 100000.0)]\n",
      "[('MSC', 100000.0)]\n"
     ]
    }
   ],
   "source": [
    "# constraints\n",
    "numSelected = lpSum(var) # num of selected containers\n",
    "\n",
    "# nbv\n",
    "if maxTotalNbv:\n",
    "    prob += lpSum(var * nbv) <= maxTotalNbv\n",
    "if minTotalNbv:\n",
    "    prob += lpSum(var * nbv) >= minTotalNbv\n",
    "    \n",
    "# cost\n",
    "if maxTotalCost:\n",
    "    prob += lpSum(var * cost) <= maxTotalCost\n",
    "if minTotalCost:\n",
    "    prob += lpSum(var * cost) >= minTotalCost\n",
    "\n",
    "# status\n",
    "if OnHireLimit:\n",
    "    prob += lpSum(var * onHireStatus) >= OnHireLimit * numSelected\n",
    "if OffHireLimit:\n",
    "    prob += lpSum(var * offHireStatus) <= OffHireLimit * numSelected\n",
    "if NoneHireLimit:\n",
    "    prob += lpSum(var * noneHireStatus) <= NoneHireLimit * numSelected\n",
    "  \n",
    "# container age\n",
    "if fleetAgeAvgLimit:\n",
    "    if fleetAgeAvgGeq:\n",
    "        prob += lpSum(var * fleetAgeAvg) >= fleetAgeAvgLimit * numSelected\n",
    "    else:\n",
    "        prob += lpSum(var * fleetAgeAvg) <= fleetAgeAvgLimit * numSelected\n",
    "for i in range(numLimit):\n",
    "    if fleetAgeLimit[i]:\n",
    "        if fleetAgeGeq[i]:\n",
    "            prob += lpSum(var * fleetAge[i]) >= fleetAgeLimit[i] * numSelected\n",
    "        else:\n",
    "            prob += lpSum(var * fleetAge[i]) <= fleetAgeLimit[i] * numSelected\n",
    "\n",
    "# weighted age\n",
    "if weightedAgeAvgLimit:\n",
    "    if weightedAgeAvgGeq:\n",
    "        prob += lpSum(var * weightedAgeAvg) >= weightedAgeAvgLimit * numSelected\n",
    "    else:\n",
    "        prob += lpSum(var * weightedAgeAvg) <= weightedAgeAvgLimit * numSelected\n",
    "for i in range(numLimit):\n",
    "    if weightedAgeLimit[i]:\n",
    "        if weightedAgeGeq[i]:\n",
    "            prob += lpSum(var * weightedAge[i]) >= weightedAgeLimit[i] * numSelected\n",
    "        else:\n",
    "            prob += lpSum(var * weightedAge[i]) <= weightedAgeLimit[i] * numSelected\n",
    "\n",
    "# product\n",
    "for i in range(numLimit):\n",
    "    if productLimit[i]:\n",
    "        if productGeq[i]:\n",
    "            prob += lpSum(var * product[i]) >= productLimit[i] * numSelected\n",
    "        else:\n",
    "            prob += lpSum(var * product[i]) <= productLimit[i] * numSelected\n",
    "\n",
    "# lessee\n",
    "for i in range(numLimit):\n",
    "    if lesseeLimit[i] and lesseeType[i] in lesseeOneHot:\n",
    "        if lesseeGeq[i]:\n",
    "            prob += lpSum(var * lesseeOneHot[lesseeType[i]]) >= lesseeLimit[i] * numSelected\n",
    "        else:\n",
    "            prob += lpSum(var * lesseeOneHot[lesseeType[i]]) <= lesseeLimit[i] * numSelected\n",
    "\n",
    "\n",
    "# find top1, top2, top3\n",
    "for i in range(min(3, len(lesseeOneHot))):\n",
    "    if topLesseeLimit[i]:\n",
    "        if topLesseeGeq[i]:\n",
    "            prob += lpSum(var * SortTop(list({i: value(lpSum(var * lesseeOneHot[i])) for i in lesseeOneHot}.items()), i+1)) >= topLesseeLimit[i] * numSelected\n",
    "        else:\n",
    "            prob += lpSum(var * SortTop(list({i: value(lpSum(var * lesseeOneHot[i])) for i in lesseeOneHot}.items()), i+1)) <= topLesseeLimit[i] * numSelected\n",
    "\n",
    "# contract type\n",
    "for i in range(numLimit):\n",
    "    if contractLimit[i]:\n",
    "        if contractGeq[i]:\n",
    "            prob += lpSum(var * contract[i]) >= contractLimit[i] * numSelected\n",
    "        else:\n",
    "            prob += lpSum(var * contract[i]) <= contractLimit[i] * numSelected\n"
   ]
  },
  {
   "cell_type": "code",
   "execution_count": 38,
   "id": "a7c26001",
   "metadata": {},
   "outputs": [
    {
     "data": {
      "text/plain": [
       "1"
      ]
     },
     "execution_count": 38,
     "metadata": {},
     "output_type": "execute_result"
    }
   ],
   "source": [
    "solver = PULP_CBC_CMD(msg = True, timeLimit=TIMEOUT)\n",
    "prob.solve(solver)"
   ]
  },
  {
   "cell_type": "code",
   "execution_count": 39,
   "id": "27930d6b",
   "metadata": {},
   "outputs": [
    {
     "name": "stdout",
     "output_type": "stream",
     "text": [
      "==============================================================\n",
      "status: Optimal\n",
      "==============================================================\n",
      "target value:  188855358.6410332\n"
     ]
    }
   ],
   "source": [
    "print(\"==============================================================\")\n",
    "# print(prob)\n",
    "print(\"status:\", LpStatus[prob.status])\n",
    "print(\"==============================================================\")\n",
    "print(\"target value: \", value(prob.objective))"
   ]
  },
  {
   "cell_type": "code",
   "execution_count": 23,
   "id": "0c2690d0",
   "metadata": {},
   "outputs": [
    {
     "name": "stdout",
     "output_type": "stream",
     "text": [
      "61837 / 200000 containers are selected.\n"
     ]
    }
   ],
   "source": [
    "# if solution is found\n",
    "if debug:\n",
    "    result = np.array([var[i].varValue for i in range(n)])\n",
    "    print(int(sum(result)), '/', n, 'containers are selected.')"
   ]
  },
  {
   "cell_type": "markdown",
   "id": "28575e3f",
   "metadata": {},
   "source": [
    "### Analysis"
   ]
  },
  {
   "cell_type": "code",
   "execution_count": 41,
   "id": "c29fce25",
   "metadata": {},
   "outputs": [
    {
     "name": "stdout",
     "output_type": "stream",
     "text": [
      "36800 / 100000 containers are selected.\n",
      "======================================================================\n",
      "nbv: 188855358.64 between 100000000 - 200000000\n",
      "cost: 199999996.68 between 100000000 - 200000000\n",
      "billing status:\n",
      "\t offhire 0.010625, -- 0.15\n",
      "container age:\n",
      "\t container average age is 1.55, -- 3\n",
      "\t container age from 0 to 3 is 0.94, -- 0.7:\n",
      "\t container age from 3 to 6 is 0.01, -- 0.01:\n",
      "weighted age:\n",
      "\t weighted average age is 3.48, -- 7\n",
      "\t weighted age from 3 to 6 is 0.15, -- 0.15:\n",
      "\t weighted age from 4 to 15 is 0.14, -- 0.01:\n",
      "product:\n",
      "\t product ['D4H'] is 0.69, -- 0.5:\n",
      "\t product ['D20', 'D40'] is 0.22, -- 0.1:\n",
      "lessee:\n",
      "\t lessee MSC is 0.49, -- 0.6:\n",
      "\t lessee ESSC is 0.05, -- 0.2:\n",
      "Top lessee:\n",
      "\t top 1 MSC is 0.48733695652173914, -- 0.6\n",
      "\t top 2 MSC ESSC is 0.5331521739130435, -- 0.8\n",
      "contract type:\n",
      "\t contract type ['LT'] is 0.68, -- 0.6:\n",
      "\t contract type ['LP', 'LM'] is 0.1, -- 0.1:\n"
     ]
    }
   ],
   "source": [
    "if debug:    \n",
    "    result = np.array([var[i].varValue for i in range(n)])\n",
    "    print(int(sum(result)), '/', n, 'containers are selected.')\n",
    "    print('======================================================================')\n",
    "    print(\"nbv: {0} between {1} - {2}\".format(round(sum(result * nbv), 2), minTotalNbv, maxTotalNbv))\n",
    "    print(\"cost: {0} between {1} - {2}\".format(round(sum(result * cost), 2), minTotalCost, maxTotalCost))\n",
    "    print('billing status:')\n",
    "    if OnHireLimit:\n",
    "        print('\\t onhire {0}, -- {1}'.format(sum(result * onHireStatus)/sum(result), OnHireLimit))\n",
    "    if OffHireLimit:\n",
    "        print('\\t offhire {0}, -- {1}'.format(sum(result * offHireStatus)/sum(result), OffHireLimit))\n",
    "    if NoneHireLimit:\n",
    "        print('\\t none {0}, -- {1}'.format(sum(result * noneHireStatus)/sum(result), NoneHireLimit))\n",
    "\n",
    "    print(\"container age:\")\n",
    "    print('\\t container average age is {0}, -- {1}'.format(round(sum(result * fleetAgeAvg)/sum(result), 2), fleetAgeAvgLimit))\n",
    "    for i in range(numLimit):\n",
    "        if fleetAgeLimit[i]  :\n",
    "            print(\"\\t container age from {0} to {1} is {2}, -- {3}:\".format(fleetAgeLowBound[i], fleetAgeUpBound[i], round(sum(result * fleetAge[i])/sum(result), 2), fleetAgeLimit[i]))\n",
    "\n",
    "    print(\"weighted age:\")\n",
    "    print('\\t weighted average age is {0}, -- {1}'.format(round(sum(result * weightedAgeAvg)/sum(result), 2), weightedAgeAvgLimit))\n",
    "    for i in range(numLimit):\n",
    "        if weightedAgeLimit[i]  :\n",
    "            print(\"\\t weighted age from {0} to {1} is {2}, -- {3}:\".format(weightedAgeLowBound[i], weightedAgeUpBound[i], round(sum(result * weightedAge[i])/sum(result), 2), weightedAgeLimit[i]))    \n",
    "\n",
    "    print(\"product:\")\n",
    "    for i in range(numLimit):\n",
    "        if productLimit[i]  :\n",
    "            print(\"\\t product {0} is {1}, -- {2}:\".format(productType[i], round(sum(result * product[i])/sum(result), 2), productLimit[i]))    \n",
    "    \n",
    "    print(\"lessee:\")\n",
    "    for i in range(numLimit):\n",
    "        if lesseeLimit[i]  :\n",
    "            print(\"\\t lessee {0} is {1}, -- {2}:\".format(lesseeType[i], round(sum(result * lesseeOneHot[lesseeType[i]])/sum(result), 2), lesseeLimit[i]))    \n",
    "\n",
    "    print('Top lessee:')\n",
    "    numLessee = {lesseeName: value(lpSum(var * lesseeOneHot[lesseeName])) for lesseeName in data['Contract Cust Id'].value_counts().index}\n",
    "    sortedLessee = list(numLessee.items())\n",
    "    top3Lessee = heapq.nlargest(3, sortedLessee, key=lambda x:x[1])\n",
    "    if topLesseeLimit[0]:\n",
    "        print('\\t top 1 {0} is {1}, -- {2}'.format(top3Lessee[0][0], top3Lessee[0][1] / sum(result), topLesseeLimit[0]))\n",
    "    if topLesseeLimit[1]:\n",
    "        print('\\t top 2 {0} {1} is {2}, -- {3}'.format(top3Lessee[0][0], top3Lessee[1][0], (top3Lessee[0][1] + top3Lessee[1][1])/ sum(result), topLesseeLimit[1]))\n",
    "    if topLesseeLimit[2]:\n",
    "        print('\\t top 3 {0} {1} {2} is {3}, -- {4}'.format(top3Lessee[0][0], top3Lessee[1][0], top3Lessee[2][0], (top3Lessee[0][1] + top3Lessee[1][1] + top3Lessee[2][1])/ sum(result), topLesseeLimit[2]))\n",
    "\n",
    "    print(\"contract type:\")\n",
    "    for i in range(numLimit):\n",
    "        if contractLimit[i]  :\n",
    "            print(\"\\t contract type {0} is {1}, -- {2}:\".format(contractType[i], round(sum(result * contract[i])/sum(result), 2), contractLimit[i])) \n"
   ]
  },
  {
   "cell_type": "markdown",
   "id": "fc3a6384",
   "metadata": {},
   "source": [
    "### Output"
   ]
  },
  {
   "cell_type": "code",
   "execution_count": 25,
   "id": "78ea0929",
   "metadata": {},
   "outputs": [],
   "source": [
    "if prob.status == 1 or prob.status == 2:\n",
    "    data.insert(loc=0, column=\"Selected\", value=result)\n",
    "    data = data[['Unit Id Fz', 'Cost', 'Product', 'Contract Cust Id', 'Contract Lease Type', 'Nbv', 'Billing Status Fz', 'Fleet Year Fz', 'Age x CEU']]\n",
    "    data.to_csv('demo_result.csv')"
   ]
  }
 ],
 "metadata": {
  "kernelspec": {
   "display_name": "Python 3",
   "language": "python",
   "name": "python3"
  },
  "language_info": {
   "codemirror_mode": {
    "name": "ipython",
    "version": 3
   },
   "file_extension": ".py",
   "mimetype": "text/x-python",
   "name": "python",
   "nbconvert_exporter": "python",
   "pygments_lexer": "ipython3",
   "version": "3.6.13"
  },
  "toc": {
   "base_numbering": 1,
   "nav_menu": {},
   "number_sections": true,
   "sideBar": true,
   "skip_h1_title": false,
   "title_cell": "Table of Contents",
   "title_sidebar": "Contents",
   "toc_cell": false,
   "toc_position": {},
   "toc_section_display": true,
   "toc_window_display": false
  },
  "vscode": {
   "interpreter": {
    "hash": "1e335e686b339f85b85fb05929c8f6be9d5eff29f30156b286c1453d4c012bd1"
   }
  }
 },
 "nbformat": 4,
 "nbformat_minor": 5
}
