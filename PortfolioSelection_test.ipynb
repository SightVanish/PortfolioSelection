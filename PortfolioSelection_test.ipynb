{
 "cells": [
  {
   "cell_type": "code",
   "execution_count": 1,
   "metadata": {},
   "outputs": [],
   "source": [
    "import numpy as np\n",
    "import pandas as pd\n",
    "import time\n",
    "import heapq\n",
    "import json\n",
    "import psycopg2\n",
    "import psycopg2.extras\n",
    "import warnings\n",
    "import sys\n",
    "import uuid\n",
    "import cvxpy as cp\n",
    "import datetime\n",
    "import argparse\n",
    "from scipy.sparse import csr_matrix\n",
    "from pandasql import sqldf\n",
    "\n",
    "INF = float('inf')\n",
    "threadLimit = 4\n",
    "queryID = \"8THeTENpxjSGCNYcnU6NS8\""
   ]
  },
  {
   "cell_type": "code",
   "execution_count": 2,
   "metadata": {},
   "outputs": [],
   "source": [
    "def ReportStatus(msg, flag, queryID, output=None):\n",
    "    \"\"\"\n",
    "    Print message and update status in biz_model.biz_fir_query_parameter_definition.\n",
    "    \"\"\"\n",
    "    sql = \"update fll_t_dw.biz_fir_third_parameter_definition set python_info_data='{0}', success_flag='{1}', update_time='{2}', python_result_json='{3}', version= version + 1 where query_id='{4}' and query_version = 2\".format(msg, flag, datetime.datetime.now(), output, queryID)\n",
    "    print(\"============================================================================================================================\")\n",
    "    print(\"Reporting issue:\", msg)\n",
    "    conn = psycopg2.connect(host = \"10.18.35.245\", port = \"5432\", dbname = \"iflorensgp\", user = \"fluser\", password = \"13$vHU7e\")\n",
    "    conn.autocommit = True\n",
    "    cur = conn.cursor()\n",
    "    cur.execute(sql)\n",
    "    conn.commit()\n",
    "    conn.close()\n",
    "\n",
    "def ConnectDatabase(queryID):\n",
    "    \"\"\"\n",
    "    Load parameters in JSON from biz_model.biz_fir_query_parameter_definition and load data from biz_model.biz_ads_fir_pkg_data.\n",
    "    \"\"\"\n",
    "    try:\n",
    "        print('Parameters reading...')\n",
    "        sqlParameter = \"select python_json from fll_t_dw.biz_fir_query_parameter_definition where id='{0}'\".format(queryID)\n",
    "        conn = psycopg2.connect(host = \"10.18.35.245\", port = \"5432\", dbname = \"iflorensgp\", user = \"fluser\", password = \"13$vHU7e\")\n",
    "        paramInput = pd.read_sql(sqlParameter, conn)\n",
    "        if paramInput.shape[0] == 0:\n",
    "            raise Exception(\"No Valid Query Request is Found!\")\n",
    "        elif paramInput.shape[0] > 1:\n",
    "            raise Exception(\"More than One Valid Query Requests are Found!\")\n",
    "        param = json.loads(paramInput['python_json'][0])\n",
    "        print(param)\n",
    "    except Exception as e:\n",
    "        print(\"Loading Parameters from GreenPlum Failed!\\n\", e)\n",
    "        exit(1)\n",
    "    try:\n",
    "        print('Data loading...')\n",
    "        sqlInput = \\\n",
    "        \"\"\"\n",
    "        select billing_status_fz as billing, unit_id_fz as unit_id, p1.product, fleet_year_fz as fleet_year, contract_cust_id as customer, p1.contract_num,\n",
    "        contract_lease_type as contract, cost, nbv, age_x_ceu as weighted_age, ceu_fz as ceu, teu_fz as teu, rent as rent, rml_x_ceu_c as rml, cust_country\n",
    "        from fll_t_dw.biz_ads_fir_pkg_data p1\n",
    "        inner join \n",
    "        (select contract_num, product\n",
    "        from(\n",
    "        select contract_num, product, count(*) num\n",
    "        from fll_t_dw.biz_ads_fir_pkg_data\n",
    "        WHERE query_id='{1}'\n",
    "        group by 1, 2\n",
    "        ) p1 \n",
    "        where num >= {0}) p2\n",
    "        on p1.contract_num=p2.contract_num and p1.product=p2.product\n",
    "        WHERE query_id='{1}'\n",
    "        \"\"\".format(param[\"numContractProductLimit\"], queryID)\n",
    "        data = pd.read_sql(sqlInput, conn)\n",
    "        if data.shape[0] == 0:\n",
    "            raise Exception(\"No Data Available!\")\n",
    "        print('Input data shape:', data.shape)\n",
    "        conn.close()\n",
    "    except Exception as e:\n",
    "        print(e)\n",
    "        ReportStatus(\"Loading Data from GreenPlum Failed!\", 'F', queryID)\n",
    "        exit(1)\n",
    "\n",
    "    return param, data\n",
    "\n",
    "def OutputPackage(data, result, queryID):\n",
    "    \"\"\"\n",
    "    Output final package to biz_model.biz_fir_asset_package.\n",
    "    \"\"\"\n",
    "    sqlOutput = \"insert into fll_t_dw.biz_fir_asset_package (unit_id, query_id, id, is_void, version, query_version) values %s\"\n",
    "    try:\n",
    "        conn = psycopg2.connect(host = \"10.18.35.245\", port = \"5432\", dbname = \"iflorensgp\", user = \"fluser\", password = \"13$vHU7e\")\n",
    "        conn.autocommit = True\n",
    "        cur = conn.cursor()\n",
    "        print('Writing data...')\n",
    "        values_list = []\n",
    "        for i in range(len(result)):\n",
    "            if result[i]:\n",
    "                values_list.append((data['unit_id'][i], queryID, uuid.uuid1().hex, 0, 0, 2))\n",
    "        psycopg2.extras.execute_values(cur, sqlOutput, values_list)\n",
    "        conn.commit()\n",
    "        conn.close()\n",
    "    except Exception as e:\n",
    "        print(e) \n",
    "        ReportStatus(\"Writing data to GreenPlum Failed!\", 'F', queryID)\n",
    "        exit(1)\n"
   ]
  },
  {
   "cell_type": "code",
   "execution_count": 4,
   "metadata": {},
   "outputs": [
    {
     "name": "stdout",
     "output_type": "stream",
     "text": [
      "Parameters reading...\n",
      "{'prefer': {'maxOrMin': 0, 'nbvorCost': 1}, 'objective': None, 'timeLimit': 400, 'totalNBVFrom': 100000000.0, 'totalNBVTo': 1024358002260000.0, 'totalCostFrom': None, 'totalCostTo': 1111333808000000.0, 'containersAge': {'basis': None, 'average': {'symbol': None, 'averageContainersAge': None}, 'list': []}, 'weightedAge': {'basis': None, 'average': {'symbol': None, 'averageWeighedAge': None}, 'list': []}, 'lessee': {'basis': None, 'others': {'lessee': [], 'symbol': 0, 'percent': 0.0}, 'list': [], 'allList': ['Top_Lessee', 'Top2_Total', 'Top3_Total', 'Others', 'MSC', 'CN1I', 'New Factory Container', 'COSMR', 'CMA', 'CN5I', 'YANG', 'SITC', 'WHS', 'ONE', 'ESSC', 'WH', 'MSK', 'SINOKOR', 'CKLINE', 'RCL', 'EGREN', 'SSCI', 'HTHK', 'DYOUNG', 'KMTC', 'JINJIANG', 'SMLINE', 'CUL', 'SINOHK', 'SINOCL', 'TSLINE', 'HALINE', 'GOODRICH', 'MATSN', 'SRC', 'HARBOUR', 'CHINAV', 'CSSC', 'MSCL', 'YZHF', 'CH', 'LIANYUN'], 'topLessee': {'top1': {'symbol': 0, 'percent': 0.0}, 'top2': {'symbol': 0, 'percent': 0.0}, 'top3': {'symbol': 0, 'percent': 0.0}}}, 'country': {'basis': None, 'list': []}, 'status': {'basis': None, 'list': []}, 'product': {'basis': None, 'list': []}, 'contractType': {'basis': None, 'list': []}, 'totalRentFrom': None, 'rml': {'basis': None, 'list': []}, 'numContractProductLimit': 100.0}\n",
      "Data loading...\n",
      "Input data shape: (141217, 15)\n"
     ]
    }
   ],
   "source": [
    "param, data = ConnectDatabase(queryID)"
   ]
  },
  {
   "cell_type": "code",
   "execution_count": 35,
   "metadata": {},
   "outputs": [],
   "source": [
    "df = pd.DataFrame([[np.nan, 2, np.nan, 0],\n",
    "                    [3, 4, np.nan, 1],\n",
    "                    [np.nan, np.nan, np.nan, np.nan],\n",
    "                    [np.nan, 3, np.nan, 4]],\n",
    "                   columns=list(\"ABCD\"))\n"
   ]
  },
  {
   "cell_type": "code",
   "execution_count": 36,
   "metadata": {},
   "outputs": [
    {
     "data": {
      "text/html": [
       "<div>\n",
       "<style scoped>\n",
       "    .dataframe tbody tr th:only-of-type {\n",
       "        vertical-align: middle;\n",
       "    }\n",
       "\n",
       "    .dataframe tbody tr th {\n",
       "        vertical-align: top;\n",
       "    }\n",
       "\n",
       "    .dataframe thead th {\n",
       "        text-align: right;\n",
       "    }\n",
       "</style>\n",
       "<table border=\"1\" class=\"dataframe\">\n",
       "  <thead>\n",
       "    <tr style=\"text-align: right;\">\n",
       "      <th></th>\n",
       "      <th>A</th>\n",
       "      <th>B</th>\n",
       "      <th>C</th>\n",
       "      <th>D</th>\n",
       "    </tr>\n",
       "  </thead>\n",
       "  <tbody>\n",
       "    <tr>\n",
       "      <th>0</th>\n",
       "      <td>NaN</td>\n",
       "      <td>2.0</td>\n",
       "      <td>NaN</td>\n",
       "      <td>0.0</td>\n",
       "    </tr>\n",
       "    <tr>\n",
       "      <th>1</th>\n",
       "      <td>3.0</td>\n",
       "      <td>4.0</td>\n",
       "      <td>NaN</td>\n",
       "      <td>1.0</td>\n",
       "    </tr>\n",
       "    <tr>\n",
       "      <th>2</th>\n",
       "      <td>NaN</td>\n",
       "      <td>NaN</td>\n",
       "      <td>NaN</td>\n",
       "      <td>NaN</td>\n",
       "    </tr>\n",
       "    <tr>\n",
       "      <th>3</th>\n",
       "      <td>NaN</td>\n",
       "      <td>3.0</td>\n",
       "      <td>NaN</td>\n",
       "      <td>4.0</td>\n",
       "    </tr>\n",
       "  </tbody>\n",
       "</table>\n",
       "</div>"
      ],
      "text/plain": [
       "     A    B   C    D\n",
       "0  NaN  2.0 NaN  0.0\n",
       "1  3.0  4.0 NaN  1.0\n",
       "2  NaN  NaN NaN  NaN\n",
       "3  NaN  3.0 NaN  4.0"
      ]
     },
     "execution_count": 36,
     "metadata": {},
     "output_type": "execute_result"
    }
   ],
   "source": [
    "df"
   ]
  },
  {
   "cell_type": "code",
   "execution_count": 52,
   "metadata": {},
   "outputs": [],
   "source": [
    "a = data['customer'][:10]"
   ]
  },
  {
   "cell_type": "code",
   "execution_count": 54,
   "metadata": {},
   "outputs": [
    {
     "data": {
      "text/plain": [
       "YANG    4\n",
       "MSC     3\n",
       "None    2\n",
       "CMA     1\n",
       "Name: customer, dtype: int64"
      ]
     },
     "execution_count": 54,
     "metadata": {},
     "output_type": "execute_result"
    }
   ],
   "source": [
    "a = a.fillna(value='None')\n",
    "a.value_counts()"
   ]
  },
  {
   "cell_type": "code",
   "execution_count": 7,
   "metadata": {},
   "outputs": [
    {
     "name": "stdout",
     "output_type": "stream",
     "text": [
      "==============================================================\n",
      "Data processing...\n"
     ]
    },
    {
     "ename": "KeyError",
     "evalue": "None",
     "output_type": "error",
     "traceback": [
      "\u001b[0;31m---------------------------------------------------------------------------\u001b[0m",
      "\u001b[0;31mKeyError\u001b[0m                                  Traceback (most recent call last)",
      "\u001b[0;32m<ipython-input-7-d8428df5064e>\u001b[0m in \u001b[0;36m<module>\u001b[0;34m\u001b[0m\n\u001b[1;32m      6\u001b[0m \u001b[0;31m# One hot all lessees\u001b[0m\u001b[0;34m\u001b[0m\u001b[0;34m\u001b[0m\u001b[0;34m\u001b[0m\u001b[0m\n\u001b[1;32m      7\u001b[0m \u001b[0mlesseeIndex\u001b[0m \u001b[0;34m=\u001b[0m \u001b[0;34m{\u001b[0m\u001b[0mk\u001b[0m\u001b[0;34m:\u001b[0m \u001b[0mv\u001b[0m \u001b[0;32mfor\u001b[0m \u001b[0mv\u001b[0m\u001b[0;34m,\u001b[0m \u001b[0mk\u001b[0m \u001b[0;32min\u001b[0m \u001b[0menumerate\u001b[0m\u001b[0;34m(\u001b[0m\u001b[0mdata\u001b[0m\u001b[0;34m[\u001b[0m\u001b[0;34m'customer'\u001b[0m\u001b[0;34m]\u001b[0m\u001b[0;34m.\u001b[0m\u001b[0mvalue_counts\u001b[0m\u001b[0;34m(\u001b[0m\u001b[0;34m)\u001b[0m\u001b[0;34m.\u001b[0m\u001b[0mindex\u001b[0m\u001b[0;34m)\u001b[0m\u001b[0;34m}\u001b[0m\u001b[0;34m\u001b[0m\u001b[0;34m\u001b[0m\u001b[0m\n\u001b[0;32m----> 8\u001b[0;31m \u001b[0mrow\u001b[0m \u001b[0;34m=\u001b[0m \u001b[0;34m[\u001b[0m\u001b[0mlesseeIndex\u001b[0m\u001b[0;34m[\u001b[0m\u001b[0mdata\u001b[0m\u001b[0;34m[\u001b[0m\u001b[0;34m'customer'\u001b[0m\u001b[0;34m]\u001b[0m\u001b[0;34m[\u001b[0m\u001b[0mi\u001b[0m\u001b[0;34m]\u001b[0m\u001b[0;34m]\u001b[0m \u001b[0;32mfor\u001b[0m \u001b[0mi\u001b[0m \u001b[0;32min\u001b[0m \u001b[0mrange\u001b[0m\u001b[0;34m(\u001b[0m\u001b[0mnumData\u001b[0m\u001b[0;34m)\u001b[0m\u001b[0;34m]\u001b[0m\u001b[0;34m\u001b[0m\u001b[0;34m\u001b[0m\u001b[0m\n\u001b[0m\u001b[1;32m      9\u001b[0m \u001b[0mlesseeOneHot\u001b[0m \u001b[0;34m=\u001b[0m \u001b[0mcsr_matrix\u001b[0m\u001b[0;34m(\u001b[0m\u001b[0;34m(\u001b[0m\u001b[0;34m[\u001b[0m\u001b[0;36m1\u001b[0m \u001b[0;32mfor\u001b[0m \u001b[0m_\u001b[0m \u001b[0;32min\u001b[0m \u001b[0mrange\u001b[0m\u001b[0;34m(\u001b[0m\u001b[0mnumData\u001b[0m\u001b[0;34m)\u001b[0m\u001b[0;34m]\u001b[0m\u001b[0;34m,\u001b[0m \u001b[0;34m(\u001b[0m\u001b[0mrow\u001b[0m\u001b[0;34m,\u001b[0m \u001b[0mcol\u001b[0m\u001b[0;34m)\u001b[0m\u001b[0;34m)\u001b[0m\u001b[0;34m,\u001b[0m \u001b[0mshape\u001b[0m\u001b[0;34m=\u001b[0m\u001b[0;34m(\u001b[0m\u001b[0mlen\u001b[0m\u001b[0;34m(\u001b[0m\u001b[0mdata\u001b[0m\u001b[0;34m[\u001b[0m\u001b[0;34m'customer'\u001b[0m\u001b[0;34m]\u001b[0m\u001b[0;34m.\u001b[0m\u001b[0mvalue_counts\u001b[0m\u001b[0;34m(\u001b[0m\u001b[0;34m)\u001b[0m\u001b[0;34m)\u001b[0m\u001b[0;34m,\u001b[0m \u001b[0mnumData\u001b[0m\u001b[0;34m)\u001b[0m\u001b[0;34m)\u001b[0m\u001b[0;34m\u001b[0m\u001b[0;34m\u001b[0m\u001b[0m\n",
      "\u001b[0;32m<ipython-input-7-d8428df5064e>\u001b[0m in \u001b[0;36m<listcomp>\u001b[0;34m(.0)\u001b[0m\n\u001b[1;32m      6\u001b[0m \u001b[0;31m# One hot all lessees\u001b[0m\u001b[0;34m\u001b[0m\u001b[0;34m\u001b[0m\u001b[0;34m\u001b[0m\u001b[0m\n\u001b[1;32m      7\u001b[0m \u001b[0mlesseeIndex\u001b[0m \u001b[0;34m=\u001b[0m \u001b[0;34m{\u001b[0m\u001b[0mk\u001b[0m\u001b[0;34m:\u001b[0m \u001b[0mv\u001b[0m \u001b[0;32mfor\u001b[0m \u001b[0mv\u001b[0m\u001b[0;34m,\u001b[0m \u001b[0mk\u001b[0m \u001b[0;32min\u001b[0m \u001b[0menumerate\u001b[0m\u001b[0;34m(\u001b[0m\u001b[0mdata\u001b[0m\u001b[0;34m[\u001b[0m\u001b[0;34m'customer'\u001b[0m\u001b[0;34m]\u001b[0m\u001b[0;34m.\u001b[0m\u001b[0mvalue_counts\u001b[0m\u001b[0;34m(\u001b[0m\u001b[0;34m)\u001b[0m\u001b[0;34m.\u001b[0m\u001b[0mindex\u001b[0m\u001b[0;34m)\u001b[0m\u001b[0;34m}\u001b[0m\u001b[0;34m\u001b[0m\u001b[0;34m\u001b[0m\u001b[0m\n\u001b[0;32m----> 8\u001b[0;31m \u001b[0mrow\u001b[0m \u001b[0;34m=\u001b[0m \u001b[0;34m[\u001b[0m\u001b[0mlesseeIndex\u001b[0m\u001b[0;34m[\u001b[0m\u001b[0mdata\u001b[0m\u001b[0;34m[\u001b[0m\u001b[0;34m'customer'\u001b[0m\u001b[0;34m]\u001b[0m\u001b[0;34m[\u001b[0m\u001b[0mi\u001b[0m\u001b[0;34m]\u001b[0m\u001b[0;34m]\u001b[0m \u001b[0;32mfor\u001b[0m \u001b[0mi\u001b[0m \u001b[0;32min\u001b[0m \u001b[0mrange\u001b[0m\u001b[0;34m(\u001b[0m\u001b[0mnumData\u001b[0m\u001b[0;34m)\u001b[0m\u001b[0;34m]\u001b[0m\u001b[0;34m\u001b[0m\u001b[0;34m\u001b[0m\u001b[0m\n\u001b[0m\u001b[1;32m      9\u001b[0m \u001b[0mlesseeOneHot\u001b[0m \u001b[0;34m=\u001b[0m \u001b[0mcsr_matrix\u001b[0m\u001b[0;34m(\u001b[0m\u001b[0;34m(\u001b[0m\u001b[0;34m[\u001b[0m\u001b[0;36m1\u001b[0m \u001b[0;32mfor\u001b[0m \u001b[0m_\u001b[0m \u001b[0;32min\u001b[0m \u001b[0mrange\u001b[0m\u001b[0;34m(\u001b[0m\u001b[0mnumData\u001b[0m\u001b[0;34m)\u001b[0m\u001b[0;34m]\u001b[0m\u001b[0;34m,\u001b[0m \u001b[0;34m(\u001b[0m\u001b[0mrow\u001b[0m\u001b[0;34m,\u001b[0m \u001b[0mcol\u001b[0m\u001b[0;34m)\u001b[0m\u001b[0;34m)\u001b[0m\u001b[0;34m,\u001b[0m \u001b[0mshape\u001b[0m\u001b[0;34m=\u001b[0m\u001b[0;34m(\u001b[0m\u001b[0mlen\u001b[0m\u001b[0;34m(\u001b[0m\u001b[0mdata\u001b[0m\u001b[0;34m[\u001b[0m\u001b[0;34m'customer'\u001b[0m\u001b[0;34m]\u001b[0m\u001b[0;34m.\u001b[0m\u001b[0mvalue_counts\u001b[0m\u001b[0;34m(\u001b[0m\u001b[0;34m)\u001b[0m\u001b[0;34m)\u001b[0m\u001b[0;34m,\u001b[0m \u001b[0mnumData\u001b[0m\u001b[0;34m)\u001b[0m\u001b[0;34m)\u001b[0m\u001b[0;34m\u001b[0m\u001b[0;34m\u001b[0m\u001b[0m\n",
      "\u001b[0;31mKeyError\u001b[0m: None"
     ]
    }
   ],
   "source": [
    "print(\"==============================================================\")\n",
    "print('Data processing...')\n",
    "start_time = time.time()\n",
    "numData = data.shape[0]\n",
    "\n",
    "# One hot all lessees\n",
    "lesseeIndex = {k: v for v, k in enumerate(data['customer'].value_counts().index)}\n",
    "row = [lesseeIndex[data['customer'][i]] for i in range(numData)]\n",
    "lesseeOneHot = csr_matrix(([1 for _ in range(numData)], (row, col)), shape=(len(data['customer'].value_counts()), numData))\n"
   ]
  },
  {
   "cell_type": "code",
   "execution_count": 34,
   "metadata": {},
   "outputs": [
    {
     "data": {
      "text/plain": [
       "{'MSC': 35745,\n",
       " 'CN1I': 29505,\n",
       " 'COSMR': 12395,\n",
       " 'CMA': 10948,\n",
       " 'CN5I': 8627,\n",
       " 'YANG': 5866,\n",
       " 'SITC': 3094,\n",
       " 'WHS': 2994,\n",
       " 'ONE': 2497,\n",
       " 'ESSC': 1851,\n",
       " 'WH': 1598,\n",
       " 'MSK': 1296,\n",
       " 'SINOKOR': 1000,\n",
       " 'RCL': 950,\n",
       " 'CKLINE': 925,\n",
       " 'EGREN': 896,\n",
       " 'SSCI': 660,\n",
       " 'HTHK': 600,\n",
       " 'DYOUNG': 500,\n",
       " 'KMTC': 500,\n",
       " 'SINOHK': 300,\n",
       " 'CUL': 300,\n",
       " 'SMLINE': 250,\n",
       " 'JINJIANG': 250,\n",
       " 'SINOCL': 249,\n",
       " 'TSLINE': 200,\n",
       " 'HALINE': 199,\n",
       " 'MATSN': 150,\n",
       " 'SRC': 125,\n",
       " 'GOODRICH': 100,\n",
       " 'HARBOUR': 100}"
      ]
     },
     "execution_count": 34,
     "metadata": {},
     "output_type": "execute_result"
    }
   ],
   "source": [
    "dict(data['customer'].value_counts())\n"
   ]
  },
  {
   "cell_type": "code",
   "execution_count": 12,
   "metadata": {},
   "outputs": [
    {
     "data": {
      "text/plain": [
       "{'MSC': 0,\n",
       " 'CN1I': 1,\n",
       " 'COSMR': 2,\n",
       " 'CMA': 3,\n",
       " 'CN5I': 4,\n",
       " 'YANG': 5,\n",
       " 'SITC': 6,\n",
       " 'WHS': 7,\n",
       " 'ONE': 8,\n",
       " 'ESSC': 9,\n",
       " 'WH': 10,\n",
       " 'MSK': 11,\n",
       " 'SINOKOR': 12,\n",
       " 'RCL': 13,\n",
       " 'CKLINE': 14,\n",
       " 'EGREN': 15,\n",
       " 'SSCI': 16,\n",
       " 'HTHK': 17,\n",
       " 'KMTC': 18,\n",
       " 'DYOUNG': 19,\n",
       " 'CUL': 20,\n",
       " 'SINOHK': 21,\n",
       " 'JINJIANG': 22,\n",
       " 'SMLINE': 23,\n",
       " 'SINOCL': 24,\n",
       " 'TSLINE': 25,\n",
       " 'HALINE': 26,\n",
       " 'MATSN': 27,\n",
       " 'SRC': 28,\n",
       " 'GOODRICH': 29,\n",
       " 'HARBOUR': 30}"
      ]
     },
     "execution_count": 12,
     "metadata": {},
     "output_type": "execute_result"
    }
   ],
   "source": [
    "lesseeIndex"
   ]
  },
  {
   "cell_type": "code",
   "execution_count": 4,
   "metadata": {},
   "outputs": [
    {
     "name": "stdout",
     "output_type": "stream",
     "text": [
      "Parameters reading...\n",
      "{'prefer': {'maxOrMin': 0, 'nbvorCost': 1}, 'objective': None, 'timeLimit': 400, 'totalNBVFrom': 100000000.0, 'totalNBVTo': 1024358002260000.0, 'totalCostFrom': None, 'totalCostTo': 1111333808000000.0, 'containersAge': {'basis': None, 'average': {'symbol': None, 'averageContainersAge': None}, 'list': []}, 'weightedAge': {'basis': None, 'average': {'symbol': None, 'averageWeighedAge': None}, 'list': []}, 'lessee': {'basis': None, 'others': {'lessee': [], 'symbol': 0, 'percent': 0.0}, 'list': [], 'allList': ['Top_Lessee', 'Top2_Total', 'Top3_Total', 'Others', 'MSC', 'CN1I', 'New Factory Container', 'COSMR', 'CMA', 'CN5I', 'YANG', 'SITC', 'WHS', 'ONE', 'ESSC', 'WH', 'MSK', 'SINOKOR', 'CKLINE', 'RCL', 'EGREN', 'SSCI', 'HTHK', 'DYOUNG', 'KMTC', 'JINJIANG', 'SMLINE', 'CUL', 'SINOHK', 'SINOCL', 'TSLINE', 'HALINE', 'GOODRICH', 'MATSN', 'SRC', 'HARBOUR', 'CHINAV', 'CSSC', 'MSCL', 'YZHF', 'CH', 'LIANYUN'], 'topLessee': {'top1': {'symbol': 0, 'percent': 0.0}, 'top2': {'symbol': 0, 'percent': 0.0}, 'top3': {'symbol': 0, 'percent': 0.0}}}, 'country': {'basis': None, 'list': []}, 'status': {'basis': None, 'list': []}, 'product': {'basis': None, 'list': []}, 'contractType': {'basis': None, 'list': []}, 'totalRentFrom': None, 'rml': {'basis': None, 'list': []}, 'numContractProductLimit': 100.0}\n",
      "Data loading...\n",
      "Input data shape: (141217, 15)\n"
     ]
    }
   ],
   "source": [
    "param, data = ConnectDatabase(queryID)"
   ]
  },
  {
   "cell_type": "code",
   "execution_count": 5,
   "metadata": {},
   "outputs": [
    {
     "name": "stdout",
     "output_type": "stream",
     "text": [
      "==============================================================\n",
      "Data processing...\n"
     ]
    },
    {
     "ename": "KeyError",
     "evalue": "None",
     "output_type": "error",
     "traceback": [
      "\u001b[0;31m---------------------------------------------------------------------------\u001b[0m",
      "\u001b[0;31mKeyError\u001b[0m                                  Traceback (most recent call last)",
      "\u001b[0;32m<ipython-input-5-c20d571216a7>\u001b[0m in \u001b[0;36m<module>\u001b[0;34m\u001b[0m\n\u001b[1;32m      5\u001b[0m \u001b[0mproductIndex\u001b[0m\u001b[0;34m,\u001b[0m \u001b[0mproductOneHot\u001b[0m\u001b[0;34m,\u001b[0m\u001b[0;31m \u001b[0m\u001b[0;31m\\\u001b[0m\u001b[0;34m\u001b[0m\u001b[0;34m\u001b[0m\u001b[0m\n\u001b[1;32m      6\u001b[0m \u001b[0mcontainerAgeOneHot\u001b[0m\u001b[0;34m,\u001b[0m \u001b[0mweightedAgeOneHot\u001b[0m\u001b[0;34m,\u001b[0m \u001b[0mrmlOneHot\u001b[0m\u001b[0;34m,\u001b[0m \u001b[0mcountryOneHot\u001b[0m\u001b[0;31m \u001b[0m\u001b[0;31m\\\u001b[0m\u001b[0;34m\u001b[0m\u001b[0;34m\u001b[0m\u001b[0m\n\u001b[0;32m----> 7\u001b[0;31m \u001b[0;34m=\u001b[0m \u001b[0mDataProcessing\u001b[0m\u001b[0;34m(\u001b[0m\u001b[0mdata\u001b[0m\u001b[0;34m)\u001b[0m\u001b[0;34m\u001b[0m\u001b[0;34m\u001b[0m\u001b[0m\n\u001b[0m",
      "\u001b[0;32m<ipython-input-3-01eb3965cd57>\u001b[0m in \u001b[0;36mDataProcessing\u001b[0;34m(data)\u001b[0m\n\u001b[1;32m     12\u001b[0m     \u001b[0;31m# One hot all lessees\u001b[0m\u001b[0;34m\u001b[0m\u001b[0;34m\u001b[0m\u001b[0;34m\u001b[0m\u001b[0m\n\u001b[1;32m     13\u001b[0m     \u001b[0mlesseeIndex\u001b[0m \u001b[0;34m=\u001b[0m \u001b[0;34m{\u001b[0m\u001b[0mk\u001b[0m\u001b[0;34m:\u001b[0m \u001b[0mv\u001b[0m \u001b[0;32mfor\u001b[0m \u001b[0mv\u001b[0m\u001b[0;34m,\u001b[0m \u001b[0mk\u001b[0m \u001b[0;32min\u001b[0m \u001b[0menumerate\u001b[0m\u001b[0;34m(\u001b[0m\u001b[0mdata\u001b[0m\u001b[0;34m[\u001b[0m\u001b[0;34m'customer'\u001b[0m\u001b[0;34m]\u001b[0m\u001b[0;34m.\u001b[0m\u001b[0mvalue_counts\u001b[0m\u001b[0;34m(\u001b[0m\u001b[0;34m)\u001b[0m\u001b[0;34m.\u001b[0m\u001b[0mindex\u001b[0m\u001b[0;34m)\u001b[0m\u001b[0;34m}\u001b[0m\u001b[0;34m\u001b[0m\u001b[0;34m\u001b[0m\u001b[0m\n\u001b[0;32m---> 14\u001b[0;31m     \u001b[0mrow\u001b[0m \u001b[0;34m=\u001b[0m \u001b[0;34m[\u001b[0m\u001b[0mlesseeIndex\u001b[0m\u001b[0;34m[\u001b[0m\u001b[0mdata\u001b[0m\u001b[0;34m[\u001b[0m\u001b[0;34m'customer'\u001b[0m\u001b[0;34m]\u001b[0m\u001b[0;34m[\u001b[0m\u001b[0mi\u001b[0m\u001b[0;34m]\u001b[0m\u001b[0;34m]\u001b[0m \u001b[0;32mfor\u001b[0m \u001b[0mi\u001b[0m \u001b[0;32min\u001b[0m \u001b[0mrange\u001b[0m\u001b[0;34m(\u001b[0m\u001b[0mnumData\u001b[0m\u001b[0;34m)\u001b[0m\u001b[0;34m]\u001b[0m\u001b[0;34m\u001b[0m\u001b[0;34m\u001b[0m\u001b[0m\n\u001b[0m\u001b[1;32m     15\u001b[0m     \u001b[0mlesseeOneHot\u001b[0m \u001b[0;34m=\u001b[0m \u001b[0mcsr_matrix\u001b[0m\u001b[0;34m(\u001b[0m\u001b[0;34m(\u001b[0m\u001b[0;34m[\u001b[0m\u001b[0;36m1\u001b[0m \u001b[0;32mfor\u001b[0m \u001b[0m_\u001b[0m \u001b[0;32min\u001b[0m \u001b[0mrange\u001b[0m\u001b[0;34m(\u001b[0m\u001b[0mnumData\u001b[0m\u001b[0;34m)\u001b[0m\u001b[0;34m]\u001b[0m\u001b[0;34m,\u001b[0m \u001b[0;34m(\u001b[0m\u001b[0mrow\u001b[0m\u001b[0;34m,\u001b[0m \u001b[0mcol\u001b[0m\u001b[0;34m)\u001b[0m\u001b[0;34m)\u001b[0m\u001b[0;34m,\u001b[0m \u001b[0mshape\u001b[0m\u001b[0;34m=\u001b[0m\u001b[0;34m(\u001b[0m\u001b[0mlen\u001b[0m\u001b[0;34m(\u001b[0m\u001b[0mdata\u001b[0m\u001b[0;34m[\u001b[0m\u001b[0;34m'customer'\u001b[0m\u001b[0;34m]\u001b[0m\u001b[0;34m.\u001b[0m\u001b[0mvalue_counts\u001b[0m\u001b[0;34m(\u001b[0m\u001b[0;34m)\u001b[0m\u001b[0;34m)\u001b[0m\u001b[0;34m,\u001b[0m \u001b[0mnumData\u001b[0m\u001b[0;34m)\u001b[0m\u001b[0;34m)\u001b[0m\u001b[0;34m\u001b[0m\u001b[0;34m\u001b[0m\u001b[0m\n\u001b[1;32m     16\u001b[0m \u001b[0;34m\u001b[0m\u001b[0m\n",
      "\u001b[0;32m<ipython-input-3-01eb3965cd57>\u001b[0m in \u001b[0;36m<listcomp>\u001b[0;34m(.0)\u001b[0m\n\u001b[1;32m     12\u001b[0m     \u001b[0;31m# One hot all lessees\u001b[0m\u001b[0;34m\u001b[0m\u001b[0;34m\u001b[0m\u001b[0;34m\u001b[0m\u001b[0m\n\u001b[1;32m     13\u001b[0m     \u001b[0mlesseeIndex\u001b[0m \u001b[0;34m=\u001b[0m \u001b[0;34m{\u001b[0m\u001b[0mk\u001b[0m\u001b[0;34m:\u001b[0m \u001b[0mv\u001b[0m \u001b[0;32mfor\u001b[0m \u001b[0mv\u001b[0m\u001b[0;34m,\u001b[0m \u001b[0mk\u001b[0m \u001b[0;32min\u001b[0m \u001b[0menumerate\u001b[0m\u001b[0;34m(\u001b[0m\u001b[0mdata\u001b[0m\u001b[0;34m[\u001b[0m\u001b[0;34m'customer'\u001b[0m\u001b[0;34m]\u001b[0m\u001b[0;34m.\u001b[0m\u001b[0mvalue_counts\u001b[0m\u001b[0;34m(\u001b[0m\u001b[0;34m)\u001b[0m\u001b[0;34m.\u001b[0m\u001b[0mindex\u001b[0m\u001b[0;34m)\u001b[0m\u001b[0;34m}\u001b[0m\u001b[0;34m\u001b[0m\u001b[0;34m\u001b[0m\u001b[0m\n\u001b[0;32m---> 14\u001b[0;31m     \u001b[0mrow\u001b[0m \u001b[0;34m=\u001b[0m \u001b[0;34m[\u001b[0m\u001b[0mlesseeIndex\u001b[0m\u001b[0;34m[\u001b[0m\u001b[0mdata\u001b[0m\u001b[0;34m[\u001b[0m\u001b[0;34m'customer'\u001b[0m\u001b[0;34m]\u001b[0m\u001b[0;34m[\u001b[0m\u001b[0mi\u001b[0m\u001b[0;34m]\u001b[0m\u001b[0;34m]\u001b[0m \u001b[0;32mfor\u001b[0m \u001b[0mi\u001b[0m \u001b[0;32min\u001b[0m \u001b[0mrange\u001b[0m\u001b[0;34m(\u001b[0m\u001b[0mnumData\u001b[0m\u001b[0;34m)\u001b[0m\u001b[0;34m]\u001b[0m\u001b[0;34m\u001b[0m\u001b[0;34m\u001b[0m\u001b[0m\n\u001b[0m\u001b[1;32m     15\u001b[0m     \u001b[0mlesseeOneHot\u001b[0m \u001b[0;34m=\u001b[0m \u001b[0mcsr_matrix\u001b[0m\u001b[0;34m(\u001b[0m\u001b[0;34m(\u001b[0m\u001b[0;34m[\u001b[0m\u001b[0;36m1\u001b[0m \u001b[0;32mfor\u001b[0m \u001b[0m_\u001b[0m \u001b[0;32min\u001b[0m \u001b[0mrange\u001b[0m\u001b[0;34m(\u001b[0m\u001b[0mnumData\u001b[0m\u001b[0;34m)\u001b[0m\u001b[0;34m]\u001b[0m\u001b[0;34m,\u001b[0m \u001b[0;34m(\u001b[0m\u001b[0mrow\u001b[0m\u001b[0;34m,\u001b[0m \u001b[0mcol\u001b[0m\u001b[0;34m)\u001b[0m\u001b[0;34m)\u001b[0m\u001b[0;34m,\u001b[0m \u001b[0mshape\u001b[0m\u001b[0;34m=\u001b[0m\u001b[0;34m(\u001b[0m\u001b[0mlen\u001b[0m\u001b[0;34m(\u001b[0m\u001b[0mdata\u001b[0m\u001b[0;34m[\u001b[0m\u001b[0;34m'customer'\u001b[0m\u001b[0;34m]\u001b[0m\u001b[0;34m.\u001b[0m\u001b[0mvalue_counts\u001b[0m\u001b[0;34m(\u001b[0m\u001b[0;34m)\u001b[0m\u001b[0;34m)\u001b[0m\u001b[0;34m,\u001b[0m \u001b[0mnumData\u001b[0m\u001b[0;34m)\u001b[0m\u001b[0;34m)\u001b[0m\u001b[0;34m\u001b[0m\u001b[0;34m\u001b[0m\u001b[0m\n\u001b[1;32m     16\u001b[0m \u001b[0;34m\u001b[0m\u001b[0m\n",
      "\u001b[0;31mKeyError\u001b[0m: None"
     ]
    }
   ],
   "source": [
    "statusOneHot, \\\n",
    "lesseeIndex, lesseeOneHot, \\\n",
    "contractIndex, contractOneHot, \\\n",
    "contractTypeIndex, contractTypeOneHot, \\\n",
    "productIndex, productOneHot, \\\n",
    "containerAgeOneHot, weightedAgeOneHot, rmlOneHot, countryOneHot \\\n",
    "= DataProcessing(data)"
   ]
  },
  {
   "cell_type": "code",
   "execution_count": null,
   "metadata": {},
   "outputs": [],
   "source": []
  },
  {
   "cell_type": "code",
   "execution_count": null,
   "metadata": {},
   "outputs": [],
   "source": []
  }
 ],
 "metadata": {
  "kernelspec": {
   "display_name": "port",
   "language": "python",
   "name": "python3"
  },
  "language_info": {
   "codemirror_mode": {
    "name": "ipython",
    "version": 3
   },
   "file_extension": ".py",
   "mimetype": "text/x-python",
   "name": "python",
   "nbconvert_exporter": "python",
   "pygments_lexer": "ipython3",
   "version": "3.6.13"
  },
  "orig_nbformat": 4
 },
 "nbformat": 4,
 "nbformat_minor": 2
}
