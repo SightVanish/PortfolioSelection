{
 "cells": [
  {
   "cell_type": "code",
   "execution_count": 1,
   "id": "7506cd9f",
   "metadata": {},
   "outputs": [],
   "source": [
    "%%capture\n",
    "%pip install - r requirement.txt"
   ]
  },
  {
   "cell_type": "code",
   "execution_count": 2,
   "id": "7a176540",
   "metadata": {},
   "outputs": [],
   "source": [
    "import numpy as np\n",
    "import pandas as pd\n",
    "from pulp import LpProblem, LpVariable, lpSum, LpMaximize, LpMinimize, LpBinary, LpInteger, LpStatus, value, PulpSolverError, PULP_CBC_CMD\n",
    "import pulp as pl\n",
    "import time\n",
    "import heapq\n",
    "import json\n",
    "import psycopg2\n",
    "import psycopg2.extras\n",
    "import requests\n",
    "import warnings\n",
    "import sys\n",
    "import uuid\n",
    "\n",
    "debug = 1  # debug mode\n",
    "TIMEOUT = 500 # timeout \n",
    "if debug:\n",
    "    pd.set_option('display.max_columns', 500)  # show all columns\n",
    "    \n",
    "numLimit = 5\n",
    "\n",
    "if sys.version_info[0:2] != (3, 6):\n",
    "    warnings.warn('Please use Python3.6', UserWarning)"
   ]
  },
  {
   "cell_type": "markdown",
   "id": "16db461a",
   "metadata": {},
   "source": [
    "### INPUT"
   ]
  },
  {
   "cell_type": "code",
   "execution_count": 3,
   "id": "fa5ce414",
   "metadata": {},
   "outputs": [],
   "source": [
    "with open(\"./parameterDemo1.json\") as f:\n",
    "    paramDict = json.load(f)"
   ]
  },
  {
   "cell_type": "code",
   "execution_count": 4,
   "id": "6f1f980e",
   "metadata": {},
   "outputs": [],
   "source": [
    "queryID = paramDict['query_id']\n",
    "initialQuery = paramDict['initial_query']\n",
    "# TODO: link to database system\n",
    "param = paramDict['secondary_query']\n",
    "NbvCost = param['prefer']['NBVOrCost']\n",
    "maxOrMin = param['prefer']['maxOrMin']\n",
    "\n",
    "fleetAgeLowBound = [None for _ in range(numLimit)]\n",
    "fleetAgeUpBound = [None for _ in range(numLimit)]\n",
    "fleetAgeLimit = [None for _ in range(numLimit)]\n",
    "fleetAgeGeq = [None for _ in range(numLimit)]\n",
    "weightedAgeLowBound = [None for _ in range(numLimit)]\n",
    "weightedAgeUpBound = [None for _ in range(numLimit)]\n",
    "weightedAgeLimit = [None for _ in range(numLimit)]\n",
    "weightedAgeGeq = [None for _ in range(numLimit)]\n",
    "lesseeType = [None for _ in range(numLimit)]\n",
    "lesseeLimit = [None for _ in range(numLimit)]\n",
    "lesseeGeq = [None for _ in range(numLimit)]\n",
    "productType = [None for _ in range(numLimit)]\n",
    "productLimit = [None for _ in range(numLimit)]\n",
    "productGeq = [None for _ in range(numLimit)]\n",
    "contractType = [None for _ in range(numLimit)]\n",
    "contractLimit = [None for _ in range(numLimit)]\n",
    "contractGeq = [None for _ in range(numLimit)]\n",
    "\n",
    "minTotalNbv = param['totalNBVFrom'] if param['totalNBVFrom'] else None\n",
    "maxTotalNbv = param['totalNBVTo'] if param['totalNBVTo'] else None\n",
    "\n",
    "minTotalCost = param['totalCostFrom'] if param['totalCostFrom'] else None\n",
    "maxTotalCost = param['totalCostTo'] if param['totalCostTo'] else None\n",
    "\n",
    "fleetAgeAvgLimit = param['containersAge']['average']['averageWeighedAge'] if param['containersAge']['average']['averageWeighedAge'] else None\n",
    "fleetAgeAvgGeq = param['containersAge']['average']['symbol']\n",
    "for i in range(len(param['containersAge']['list'])):\n",
    "    fleetAgeLowBound[i] = param['containersAge']['list'][i]['containersAgeFrom']\n",
    "    fleetAgeUpBound[i] = param['containersAge']['list'][i]['containersAgeTo']\n",
    "    fleetAgeLimit[i] = param['containersAge']['list'][i]['%'] / 100\n",
    "    fleetAgeGeq[i] = param['containersAge']['list'][i]['symbol']\n",
    "\n",
    "weightedAgeAvgLimit = param['weightedAge']['average']['averageWeighedAge'] if param['weightedAge']['average']['averageWeighedAge'] else None\n",
    "weightedAgeAvgGeq = param['weightedAge']['average']['symbol']\n",
    "for i in range(len(param['weightedAge']['list'])):\n",
    "    weightedAgeLowBound[i] = param['weightedAge']['list'][i]['weightedAgeFrom']\n",
    "    weightedAgeUpBound[i] = param['weightedAge']['list'][i]['weightedAgeTo']\n",
    "    weightedAgeLimit[i] = param['weightedAge']['list'][i]['%'] / 100\n",
    "    weightedAgeGeq[i] = param['weightedAge']['list'][i]['symbol']\n",
    "\n",
    "topLesseeLimit = [param['TopLessee'][0]['%'] / 100 if param['TopLessee'][0]['Top1'] else None,\n",
    "               param['TopLessee'][1]['%'] / 100 if param['TopLessee'][1]['Top2'] else None,\n",
    "               param['TopLessee'][2]['%'] / 100 if param['TopLessee'][2]['Top3'] else None]\n",
    "topLesseeGeq = [param['TopLessee'][0]['symbol'] if param['TopLessee'][0]['Top1'] else None,\n",
    "             param['TopLessee'][1]['symbol'] if param['TopLessee'][1]['Top2'] else None,\n",
    "             param['TopLessee'][2]['symbol'] if param['TopLessee'][2]['Top3'] else None]\n",
    "for i in range(len(param['lessee'])):\n",
    "    lesseeType[i] = param['lessee'][i]['lessee']\n",
    "    lesseeLimit[i] = param['lessee'][i]['%'] / 100\n",
    "    lesseeGeq[i] = param['lessee'][i]['symbol']\n",
    "\n",
    "OnHireLimit = param['status'][0]['%'] / 100 if param['status'][0]['onhire'] else None\n",
    "OffHireLimit = param['status'][1]['%'] / 100 if param['status'][1]['offhire'] else None\n",
    "NoneHireLimit = param['status'][2]['%'] / 100 if param['status'][2]['none'] else None\n",
    "\n",
    "for i in range(len(param['product'])):\n",
    "    productType[i] = param['product'][i]['productType']\n",
    "    productLimit[i] = param['product'][i]['%'] / 100\n",
    "    productGeq[i] = param['product'][i]['symbol']\n",
    "\n",
    "for i in range(len(param['contractType'])):\n",
    "    contractType[i] = param['contractType'][i]['contractType']\n",
    "    contractLimit[i] = param['contractType'][i]['%'] / 100\n",
    "    contractGeq[i] = param['contractType'][i]['symbol']"
   ]
  },
  {
   "cell_type": "markdown",
   "id": "6b928c18",
   "metadata": {},
   "source": [
    "#### Load Data"
   ]
  },
  {
   "cell_type": "code",
   "execution_count": 5,
   "id": "383223ed",
   "metadata": {},
   "outputs": [],
   "source": [
    "rawData = pd.read_excel(io='./test_data_with_constraints.xlsb', sheet_name='数据', engine='pyxlsb')"
   ]
  },
  {
   "cell_type": "code",
   "execution_count": 6,
   "id": "1d6d2995",
   "metadata": {},
   "outputs": [
    {
     "data": {
      "text/plain": [
       "(204504, 11)"
      ]
     },
     "execution_count": 6,
     "metadata": {},
     "output_type": "execute_result"
    }
   ],
   "source": [
    "data = rawData[['Unit Id Fz', 'Contract Num', 'Cost', 'Product', 'Contract Cust Id', 'Contract Lease Type', 'Nbv', 'Billing Status Fz', 'Fleet Year Fz', 'Age x CEU', 'Ceu Fz']].copy()\n",
    "data.columns = ['unit_id', 'contract_num', 'cost', 'product', 'customer', 'contract', 'nbv', 'billing', 'fleet_year', 'weighted_age', 'ceu']\n",
    "data.shape"
   ]
  },
  {
   "cell_type": "markdown",
   "id": "ead6233f",
   "metadata": {},
   "source": [
    "### DATA PREPARATION"
   ]
  },
  {
   "cell_type": "markdown",
   "id": "6ac68229",
   "metadata": {},
   "source": [
    "#### Container Age\n",
    "\n",
    "Assign to `FleetAge{0}.format(i)`"
   ]
  },
  {
   "cell_type": "code",
   "execution_count": 7,
   "id": "5045e0f2",
   "metadata": {},
   "outputs": [],
   "source": [
    "for i in range(5):\n",
    "    if fleetAgeLimit[i]:\n",
    "        column_name = 'FleetAge{0}'.format(i)\n",
    "        data[column_name] = data['fleet_year'].apply(lambda x: 1 if fleetAgeLowBound[i]<=x<fleetAgeUpBound[i] else 0)"
   ]
  },
  {
   "cell_type": "markdown",
   "id": "471e6e2d",
   "metadata": {},
   "source": [
    "#### Status\n",
    "\n",
    "Assign new column `Status`"
   ]
  },
  {
   "cell_type": "code",
   "execution_count": 8,
   "id": "74adcb75",
   "metadata": {},
   "outputs": [],
   "source": [
    "# TODO: check whether we have none\n",
    "data['OnHireStatus'] = data['billing'].apply(lambda x: 1 if x=='ON' else 0)\n",
    "data['OffHireStatus'] = data['billing'].apply(lambda x: 1 if x=='OF' else 0)\n",
    "data['NoneStatus'] = data['billing'].apply(lambda x: 1 if x!='ON' and x!='OF' else 0)"
   ]
  },
  {
   "cell_type": "markdown",
   "id": "9a7f829e",
   "metadata": {},
   "source": [
    "#### Weighted Age\n",
    "\n",
    "Assign new column `WeightedAge{0}.format(i)`"
   ]
  },
  {
   "cell_type": "code",
   "execution_count": 9,
   "id": "54a6e04d",
   "metadata": {},
   "outputs": [],
   "source": [
    "for i in range(5):\n",
    "    if weightedAgeLimit[i]:\n",
    "        column_name = 'WeightedAge{0}'.format(i)\n",
    "        data[column_name] = data['weighted_age'].apply(lambda x: 1 if weightedAgeLowBound[i]<=x<weightedAgeUpBound[i] else 0)"
   ]
  },
  {
   "cell_type": "markdown",
   "id": "e9865ef5",
   "metadata": {},
   "source": [
    "#### Product\n",
    "\n",
    "Assign new column `ProductType{0}.format(i)`"
   ]
  },
  {
   "cell_type": "code",
   "execution_count": 10,
   "id": "5609ae15",
   "metadata": {},
   "outputs": [],
   "source": [
    "for i in range(5):\n",
    "    if productLimit[i]:\n",
    "        column_name = 'ProductType{0}'.format(i)\n",
    "        data[column_name] = data['product'].apply(lambda x: 1 if x in productType[i] else 0)"
   ]
  },
  {
   "cell_type": "markdown",
   "id": "5324bd6c",
   "metadata": {},
   "source": [
    "#### Lessee\n",
    "\n",
    "Assign new column `Lessee{0}.format(i)`"
   ]
  },
  {
   "cell_type": "code",
   "execution_count": 11,
   "id": "73ffaea8",
   "metadata": {},
   "outputs": [],
   "source": [
    "# ONE HOT -- all lessee\n",
    "# no need to consider None\n",
    "for lesseeName in data['customer'].value_counts().index:\n",
    "    data[lesseeName] = data['customer'].apply(lambda x: 1 if x==lesseeName else 0)"
   ]
  },
  {
   "cell_type": "markdown",
   "id": "382ab2be",
   "metadata": {},
   "source": [
    "#### Contract Type\n",
    "\n",
    "Assign new column `ContractType{0}.format(i)`"
   ]
  },
  {
   "cell_type": "code",
   "execution_count": 12,
   "id": "56515853",
   "metadata": {},
   "outputs": [],
   "source": [
    "for i in range(5):\n",
    "    if contractLimit[i]:\n",
    "        column_name = 'ContractType{0}'.format(i)\n",
    "        data[column_name] = data['contract'].apply(lambda x: 1 if x in contractType[i] else 0)"
   ]
  },
  {
   "cell_type": "markdown",
   "id": "5541c08e",
   "metadata": {},
   "source": [
    "### Contract Name"
   ]
  },
  {
   "cell_type": "code",
   "execution_count": 13,
   "id": "f7c99065",
   "metadata": {},
   "outputs": [],
   "source": [
    "for contractName in data['contract_num'].value_counts().index:\n",
    "    data[contractName] = data['contract_num'].apply(lambda x: 1 if x==contractName else 0)"
   ]
  },
  {
   "cell_type": "markdown",
   "id": "e5be8c24",
   "metadata": {},
   "source": [
    "### Model Part"
   ]
  },
  {
   "cell_type": "markdown",
   "id": "827f1e64",
   "metadata": {},
   "source": [
    "#### Prepare Parameters\n",
    "\n",
    "convert to numpy"
   ]
  },
  {
   "cell_type": "code",
   "execution_count": 14,
   "id": "371d7526",
   "metadata": {},
   "outputs": [
    {
     "name": "stdout",
     "output_type": "stream",
     "text": [
      "nbv: (204504,)\n",
      "cost: (204504,)\n",
      "onHireStatus: (204504,)\n",
      "offHireStatus: (204504,)\n",
      "noneHireStatus: (204504,)\n",
      "fleetAgeAvg: (204504,)\n",
      "weightedAgeAvg: (204504,)\n",
      "fleetAge: [None, None, None, None, None]\n",
      "weightedAge: [None, None, None, None, None]\n",
      "productType: [array([1, 1, 1, ..., 1, 1, 1]), None, None, None, None]\n",
      "contractType: [array([1, 1, 1, ..., 1, 1, 1]), None, None, None, None]\n"
     ]
    }
   ],
   "source": [
    "nbv = data['nbv'].to_numpy()\n",
    "cost = data['cost'].to_numpy()\n",
    "onHireStatus = data['OnHireStatus'].to_numpy()\n",
    "offHireStatus = data['OffHireStatus'].to_numpy()\n",
    "noneHireStatus = data['NoneStatus'].to_numpy()\n",
    "\n",
    "\n",
    "\n",
    "\n",
    "fleetAge = []\n",
    "weightedAge = []\n",
    "product = []\n",
    "contract = []\n",
    "for i in range(numLimit):\n",
    "    fleetAge.append(data['FleetAge{0}'.format(i)].to_numpy() if fleetAgeLimit[i] else None)\n",
    "    weightedAge.append(data['WeightedAge{0}'.format(i)].to_numpy() if weightedAgeLimit[i] else None)\n",
    "    product.append(data['ProductType{0}'.format(i)].to_numpy() if productLimit[i] else None)\n",
    "    contract.append(data['ContractType{0}'.format(i)].to_numpy() if contractLimit[i] else None)\n",
    "\n",
    "fleetAgeAvg = data['fleet_year'].to_numpy()\n",
    "weightedAgeAvg = data['weighted_age'].to_numpy()\n",
    "\n",
    "lesseeOneHot = {lesseeName: data[lesseeName].to_numpy() for lesseeName in data['customer'].value_counts().index}\n",
    "contractOneHot = {contractName: data[contractName].to_numpy() for contractName in data['contract_num'].value_counts().index}\n",
    "\n",
    "ceu = data['ceu'].to_numpy()\n",
    "\n",
    "# nbv = np.nan_to_num(nbv)\n",
    "# cost = np.nan_to_num(cost)\n",
    "# fleetAgeAvg = np.nan_to_num(fleetAgeAvg)\n",
    "# weightedAgeAvg = np.nan_to_num(weightedAgeAvg)\n",
    "\n",
    "\n",
    "if debug:\n",
    "    print('nbv:', nbv.shape)\n",
    "    print('cost:', cost.shape)\n",
    "    print('onHireStatus:', onHireStatus.shape)\n",
    "    print('offHireStatus:', offHireStatus.shape)\n",
    "    print('noneHireStatus:', noneHireStatus.shape)\n",
    "    print('fleetAgeAvg:', fleetAgeAvg.shape)\n",
    "    print('weightedAgeAvg:', weightedAgeAvg.shape)\n",
    "\n",
    "    print('fleetAge:', fleetAge)\n",
    "    print('weightedAge:', weightedAge)\n",
    "    print('productType:', product)\n",
    "    print('contractType:', contract)"
   ]
  },
  {
   "cell_type": "markdown",
   "id": "0a6259cb",
   "metadata": {},
   "source": [
    "#### Define Problem"
   ]
  },
  {
   "cell_type": "code",
   "execution_count": 24,
   "id": "bd68cb97",
   "metadata": {},
   "outputs": [],
   "source": [
    "def SortTop(l, n):\n",
    "    topN = heapq.nlargest(n, l, key=lambda x:x[1])\n",
    "    print(topN)\n",
    "    return np.sum(np.stack([lesseeOneHot[topN[i][0]] for i in range(n)]), axis=0)"
   ]
  },
  {
   "cell_type": "code",
   "execution_count": 23,
   "id": "fb5c41ac",
   "metadata": {},
   "outputs": [
    {
     "data": {
      "text/plain": [
       "1"
      ]
     },
     "execution_count": 23,
     "metadata": {},
     "output_type": "execute_result"
    }
   ],
   "source": [
    "var = np.array([LpVariable('container_{0}'.format(i), lowBound=0, upBound=1, cat=LpInteger) for i in range(nbv.shape[0])])\n",
    "prob = LpProblem(\"MyProblem\", LpMaximize if maxOrMin else LpMinimize)\n",
    "\n",
    "warmProb = LpProblem(\"WarmProblem\", LpMaximize)\n",
    "warmProb += lpSum(var * 1)\n",
    "warmProb.solve(PULP_CBC_CMD(msg = False, timeLimit=1))"
   ]
  },
  {
   "cell_type": "code",
   "execution_count": 25,
   "id": "36c22fef",
   "metadata": {},
   "outputs": [],
   "source": [
    "# objective function \n",
    "if NbvCost:\n",
    "    prob += lpSum(var * nbv)\n",
    "else:\n",
    "    prob += lpSum(var * cost)\n"
   ]
  },
  {
   "cell_type": "code",
   "execution_count": null,
   "id": "71bb15b6",
   "metadata": {},
   "outputs": [
    {
     "name": "stdout",
     "output_type": "stream",
     "text": [
      "Set Max Nbv\n",
      "Set Min Nbv\n",
      "Set Status=ON Rate Limit\n",
      "Set Weighted Average Age Limit\n",
      "Set Produdct Limit 0\n"
     ]
    },
    {
     "ename": "KeyboardInterrupt",
     "evalue": "",
     "output_type": "error",
     "traceback": [
      "\u001b[0;31m---------------------------------------------------------------------------\u001b[0m",
      "\u001b[0;31mKeyboardInterrupt\u001b[0m                         Traceback (most recent call last)",
      "\u001b[0;32m<ipython-input-22-4f41eb1e584b>\u001b[0m in \u001b[0;36m<module>\u001b[0;34m\u001b[0m\n\u001b[1;32m     83\u001b[0m \u001b[0;31m#             prob += lpSum(var * ceu * SortTop(list({j: value(lpSum(var * lesseeOneHot[j] * ceu)) for j in lesseeOneHot.keys()}.items()), i)) <= topLesseeLimit[i-1] * lpSum(var * ceu), \"Top{0}<\".format(i)\u001b[0m\u001b[0;34m\u001b[0m\u001b[0;34m\u001b[0m\u001b[0;34m\u001b[0m\u001b[0m\n\u001b[1;32m     84\u001b[0m \u001b[0;34m\u001b[0m\u001b[0m\n\u001b[0;32m---> 85\u001b[0;31m \u001b[0mprob\u001b[0m \u001b[0;34m+=\u001b[0m \u001b[0mlpSum\u001b[0m\u001b[0;34m(\u001b[0m\u001b[0mvar\u001b[0m \u001b[0;34m*\u001b[0m \u001b[0mceu\u001b[0m \u001b[0;34m*\u001b[0m \u001b[0;34m(\u001b[0m\u001b[0mSortTop\u001b[0m\u001b[0;34m(\u001b[0m\u001b[0mlist\u001b[0m\u001b[0;34m(\u001b[0m\u001b[0;34m{\u001b[0m\u001b[0mj\u001b[0m\u001b[0;34m:\u001b[0m \u001b[0mvalue\u001b[0m\u001b[0;34m(\u001b[0m\u001b[0mlpSum\u001b[0m\u001b[0;34m(\u001b[0m\u001b[0mvar\u001b[0m \u001b[0;34m*\u001b[0m \u001b[0mlesseeOneHot\u001b[0m\u001b[0;34m[\u001b[0m\u001b[0mj\u001b[0m\u001b[0;34m]\u001b[0m \u001b[0;34m*\u001b[0m \u001b[0mceu\u001b[0m\u001b[0;34m)\u001b[0m\u001b[0;34m)\u001b[0m \u001b[0;32mfor\u001b[0m \u001b[0mj\u001b[0m \u001b[0;32min\u001b[0m \u001b[0mlesseeOneHot\u001b[0m\u001b[0;34m.\u001b[0m\u001b[0mkeys\u001b[0m\u001b[0;34m(\u001b[0m\u001b[0;34m)\u001b[0m\u001b[0;34m}\u001b[0m\u001b[0;34m.\u001b[0m\u001b[0mitems\u001b[0m\u001b[0;34m(\u001b[0m\u001b[0;34m)\u001b[0m\u001b[0;34m)\u001b[0m\u001b[0;34m,\u001b[0m \u001b[0;36m3\u001b[0m\u001b[0;34m)\u001b[0m \u001b[0;34m-\u001b[0m \u001b[0mtopLesseeLimit\u001b[0m\u001b[0;34m[\u001b[0m\u001b[0;36m2\u001b[0m\u001b[0;34m]\u001b[0m \u001b[0;34m)\u001b[0m\u001b[0;34m)\u001b[0m \u001b[0;34m<=\u001b[0m \u001b[0;36m0\u001b[0m\u001b[0;34m,\u001b[0m \u001b[0;34m\"Top3<\"\u001b[0m\u001b[0;34m\u001b[0m\u001b[0;34m\u001b[0m\u001b[0m\n\u001b[0m\u001b[1;32m     86\u001b[0m \u001b[0mprob\u001b[0m \u001b[0;34m+=\u001b[0m \u001b[0mlpSum\u001b[0m\u001b[0;34m(\u001b[0m\u001b[0mvar\u001b[0m \u001b[0;34m*\u001b[0m \u001b[0mceu\u001b[0m \u001b[0;34m*\u001b[0m \u001b[0;34m(\u001b[0m\u001b[0mSortTop\u001b[0m\u001b[0;34m(\u001b[0m\u001b[0mlist\u001b[0m\u001b[0;34m(\u001b[0m\u001b[0;34m{\u001b[0m\u001b[0mj\u001b[0m\u001b[0;34m:\u001b[0m \u001b[0mvalue\u001b[0m\u001b[0;34m(\u001b[0m\u001b[0mlpSum\u001b[0m\u001b[0;34m(\u001b[0m\u001b[0mvar\u001b[0m \u001b[0;34m*\u001b[0m \u001b[0mlesseeOneHot\u001b[0m\u001b[0;34m[\u001b[0m\u001b[0mj\u001b[0m\u001b[0;34m]\u001b[0m \u001b[0;34m*\u001b[0m \u001b[0mceu\u001b[0m\u001b[0;34m)\u001b[0m\u001b[0;34m)\u001b[0m \u001b[0;32mfor\u001b[0m \u001b[0mj\u001b[0m \u001b[0;32min\u001b[0m \u001b[0mlesseeOneHot\u001b[0m\u001b[0;34m.\u001b[0m\u001b[0mkeys\u001b[0m\u001b[0;34m(\u001b[0m\u001b[0;34m)\u001b[0m\u001b[0;34m}\u001b[0m\u001b[0;34m.\u001b[0m\u001b[0mitems\u001b[0m\u001b[0;34m(\u001b[0m\u001b[0;34m)\u001b[0m\u001b[0;34m)\u001b[0m\u001b[0;34m,\u001b[0m \u001b[0;36m1\u001b[0m\u001b[0;34m)\u001b[0m \u001b[0;34m-\u001b[0m \u001b[0mtopLesseeLimit\u001b[0m\u001b[0;34m[\u001b[0m\u001b[0;36m0\u001b[0m\u001b[0;34m]\u001b[0m \u001b[0;34m)\u001b[0m\u001b[0;34m)\u001b[0m \u001b[0;34m<=\u001b[0m \u001b[0;36m0\u001b[0m\u001b[0;34m,\u001b[0m \u001b[0;34m\"Top1<\"\u001b[0m\u001b[0;34m\u001b[0m\u001b[0;34m\u001b[0m\u001b[0m\n\u001b[1;32m     87\u001b[0m \u001b[0;34m\u001b[0m\u001b[0m\n",
      "\u001b[0;32m<ipython-input-22-4f41eb1e584b>\u001b[0m in \u001b[0;36m<dictcomp>\u001b[0;34m(.0)\u001b[0m\n\u001b[1;32m     83\u001b[0m \u001b[0;31m#             prob += lpSum(var * ceu * SortTop(list({j: value(lpSum(var * lesseeOneHot[j] * ceu)) for j in lesseeOneHot.keys()}.items()), i)) <= topLesseeLimit[i-1] * lpSum(var * ceu), \"Top{0}<\".format(i)\u001b[0m\u001b[0;34m\u001b[0m\u001b[0;34m\u001b[0m\u001b[0;34m\u001b[0m\u001b[0m\n\u001b[1;32m     84\u001b[0m \u001b[0;34m\u001b[0m\u001b[0m\n\u001b[0;32m---> 85\u001b[0;31m \u001b[0mprob\u001b[0m \u001b[0;34m+=\u001b[0m \u001b[0mlpSum\u001b[0m\u001b[0;34m(\u001b[0m\u001b[0mvar\u001b[0m \u001b[0;34m*\u001b[0m \u001b[0mceu\u001b[0m \u001b[0;34m*\u001b[0m \u001b[0;34m(\u001b[0m\u001b[0mSortTop\u001b[0m\u001b[0;34m(\u001b[0m\u001b[0mlist\u001b[0m\u001b[0;34m(\u001b[0m\u001b[0;34m{\u001b[0m\u001b[0mj\u001b[0m\u001b[0;34m:\u001b[0m \u001b[0mvalue\u001b[0m\u001b[0;34m(\u001b[0m\u001b[0mlpSum\u001b[0m\u001b[0;34m(\u001b[0m\u001b[0mvar\u001b[0m \u001b[0;34m*\u001b[0m \u001b[0mlesseeOneHot\u001b[0m\u001b[0;34m[\u001b[0m\u001b[0mj\u001b[0m\u001b[0;34m]\u001b[0m \u001b[0;34m*\u001b[0m \u001b[0mceu\u001b[0m\u001b[0;34m)\u001b[0m\u001b[0;34m)\u001b[0m \u001b[0;32mfor\u001b[0m \u001b[0mj\u001b[0m \u001b[0;32min\u001b[0m \u001b[0mlesseeOneHot\u001b[0m\u001b[0;34m.\u001b[0m\u001b[0mkeys\u001b[0m\u001b[0;34m(\u001b[0m\u001b[0;34m)\u001b[0m\u001b[0;34m}\u001b[0m\u001b[0;34m.\u001b[0m\u001b[0mitems\u001b[0m\u001b[0;34m(\u001b[0m\u001b[0;34m)\u001b[0m\u001b[0;34m)\u001b[0m\u001b[0;34m,\u001b[0m \u001b[0;36m3\u001b[0m\u001b[0;34m)\u001b[0m \u001b[0;34m-\u001b[0m \u001b[0mtopLesseeLimit\u001b[0m\u001b[0;34m[\u001b[0m\u001b[0;36m2\u001b[0m\u001b[0;34m]\u001b[0m \u001b[0;34m)\u001b[0m\u001b[0;34m)\u001b[0m \u001b[0;34m<=\u001b[0m \u001b[0;36m0\u001b[0m\u001b[0;34m,\u001b[0m \u001b[0;34m\"Top3<\"\u001b[0m\u001b[0;34m\u001b[0m\u001b[0;34m\u001b[0m\u001b[0m\n\u001b[0m\u001b[1;32m     86\u001b[0m \u001b[0mprob\u001b[0m \u001b[0;34m+=\u001b[0m \u001b[0mlpSum\u001b[0m\u001b[0;34m(\u001b[0m\u001b[0mvar\u001b[0m \u001b[0;34m*\u001b[0m \u001b[0mceu\u001b[0m \u001b[0;34m*\u001b[0m \u001b[0;34m(\u001b[0m\u001b[0mSortTop\u001b[0m\u001b[0;34m(\u001b[0m\u001b[0mlist\u001b[0m\u001b[0;34m(\u001b[0m\u001b[0;34m{\u001b[0m\u001b[0mj\u001b[0m\u001b[0;34m:\u001b[0m \u001b[0mvalue\u001b[0m\u001b[0;34m(\u001b[0m\u001b[0mlpSum\u001b[0m\u001b[0;34m(\u001b[0m\u001b[0mvar\u001b[0m \u001b[0;34m*\u001b[0m \u001b[0mlesseeOneHot\u001b[0m\u001b[0;34m[\u001b[0m\u001b[0mj\u001b[0m\u001b[0;34m]\u001b[0m \u001b[0;34m*\u001b[0m \u001b[0mceu\u001b[0m\u001b[0;34m)\u001b[0m\u001b[0;34m)\u001b[0m \u001b[0;32mfor\u001b[0m \u001b[0mj\u001b[0m \u001b[0;32min\u001b[0m \u001b[0mlesseeOneHot\u001b[0m\u001b[0;34m.\u001b[0m\u001b[0mkeys\u001b[0m\u001b[0;34m(\u001b[0m\u001b[0;34m)\u001b[0m\u001b[0;34m}\u001b[0m\u001b[0;34m.\u001b[0m\u001b[0mitems\u001b[0m\u001b[0;34m(\u001b[0m\u001b[0;34m)\u001b[0m\u001b[0;34m)\u001b[0m\u001b[0;34m,\u001b[0m \u001b[0;36m1\u001b[0m\u001b[0;34m)\u001b[0m \u001b[0;34m-\u001b[0m \u001b[0mtopLesseeLimit\u001b[0m\u001b[0;34m[\u001b[0m\u001b[0;36m0\u001b[0m\u001b[0;34m]\u001b[0m \u001b[0;34m)\u001b[0m\u001b[0;34m)\u001b[0m \u001b[0;34m<=\u001b[0m \u001b[0;36m0\u001b[0m\u001b[0;34m,\u001b[0m \u001b[0;34m\"Top1<\"\u001b[0m\u001b[0;34m\u001b[0m\u001b[0;34m\u001b[0m\u001b[0m\n\u001b[1;32m     87\u001b[0m \u001b[0;34m\u001b[0m\u001b[0m\n",
      "\u001b[0;32m~/anaconda3/envs/port/lib/python3.6/site-packages/pulp/pulp.py\u001b[0m in \u001b[0;36mlpSum\u001b[0;34m(vector)\u001b[0m\n\u001b[1;32m   2279\u001b[0m     \u001b[0;34m:\u001b[0m\u001b[0mparam\u001b[0m \u001b[0mvector\u001b[0m\u001b[0;34m:\u001b[0m \u001b[0mA\u001b[0m \u001b[0mlist\u001b[0m \u001b[0mof\u001b[0m \u001b[0mlinear\u001b[0m \u001b[0mexpressions\u001b[0m\u001b[0;34m\u001b[0m\u001b[0;34m\u001b[0m\u001b[0m\n\u001b[1;32m   2280\u001b[0m     \"\"\"\n\u001b[0;32m-> 2281\u001b[0;31m     \u001b[0;32mreturn\u001b[0m \u001b[0mLpAffineExpression\u001b[0m\u001b[0;34m(\u001b[0m\u001b[0;34m)\u001b[0m\u001b[0;34m.\u001b[0m\u001b[0maddInPlace\u001b[0m\u001b[0;34m(\u001b[0m\u001b[0mvector\u001b[0m\u001b[0;34m)\u001b[0m\u001b[0;34m\u001b[0m\u001b[0;34m\u001b[0m\u001b[0m\n\u001b[0m\u001b[1;32m   2282\u001b[0m \u001b[0;34m\u001b[0m\u001b[0m\n\u001b[1;32m   2283\u001b[0m \u001b[0;34m\u001b[0m\u001b[0m\n",
      "\u001b[0;32m~/anaconda3/envs/port/lib/python3.6/site-packages/pulp/pulp.py\u001b[0m in \u001b[0;36maddInPlace\u001b[0;34m(self, other)\u001b[0m\n\u001b[1;32m    895\u001b[0m         \u001b[0;32melif\u001b[0m \u001b[0misinstance\u001b[0m\u001b[0;34m(\u001b[0m\u001b[0mother\u001b[0m\u001b[0;34m,\u001b[0m \u001b[0mlist\u001b[0m\u001b[0;34m)\u001b[0m \u001b[0;32mor\u001b[0m \u001b[0misinstance\u001b[0m\u001b[0;34m(\u001b[0m\u001b[0mother\u001b[0m\u001b[0;34m,\u001b[0m \u001b[0mIterable\u001b[0m\u001b[0;34m)\u001b[0m\u001b[0;34m:\u001b[0m\u001b[0;34m\u001b[0m\u001b[0;34m\u001b[0m\u001b[0m\n\u001b[1;32m    896\u001b[0m             \u001b[0;32mfor\u001b[0m \u001b[0me\u001b[0m \u001b[0;32min\u001b[0m \u001b[0mother\u001b[0m\u001b[0;34m:\u001b[0m\u001b[0;34m\u001b[0m\u001b[0;34m\u001b[0m\u001b[0m\n\u001b[0;32m--> 897\u001b[0;31m                 \u001b[0mself\u001b[0m\u001b[0;34m.\u001b[0m\u001b[0maddInPlace\u001b[0m\u001b[0;34m(\u001b[0m\u001b[0me\u001b[0m\u001b[0;34m)\u001b[0m\u001b[0;34m\u001b[0m\u001b[0;34m\u001b[0m\u001b[0m\n\u001b[0m\u001b[1;32m    898\u001b[0m         \u001b[0;32melse\u001b[0m\u001b[0;34m:\u001b[0m\u001b[0;34m\u001b[0m\u001b[0;34m\u001b[0m\u001b[0m\n\u001b[1;32m    899\u001b[0m             \u001b[0mself\u001b[0m\u001b[0;34m.\u001b[0m\u001b[0mconstant\u001b[0m \u001b[0;34m+=\u001b[0m \u001b[0mother\u001b[0m\u001b[0;34m\u001b[0m\u001b[0;34m\u001b[0m\u001b[0m\n",
      "\u001b[0;31mKeyboardInterrupt\u001b[0m: "
     ]
    }
   ],
   "source": [
    "# nbv\n",
    "if maxTotalNbv:\n",
    "    prob += lpSum(var * nbv) <= maxTotalNbv, \"MaxNBV\"\n",
    "    print('Set Max Nbv')\n",
    "if minTotalNbv:\n",
    "    prob += lpSum(var * nbv) >= minTotalNbv, \"MinNBV\"\n",
    "    print('Set Min Nbv')\n",
    "\n",
    "# cost\n",
    "if maxTotalCost:\n",
    "    prob += lpSum(var * cost) <= maxTotalCost, \"MaxCost\"\n",
    "    print('Set Max Cost')\n",
    "if minTotalCost:\n",
    "    prob += lpSum(var * cost) >= minTotalCost, \"MinCost\"\n",
    "    print('Set min Cost')\n",
    "\n",
    "# status\n",
    "if OnHireLimit:\n",
    "    prob += lpSum(var * onHireStatus) >= OnHireLimit * lpSum(var), \"OnHire\"\n",
    "    print('Set Status=ON Rate Limit')\n",
    "if OffHireLimit:\n",
    "    prob += lpSum(var * offHireStatus) <= OffHireLimit * lpSum(var), \"OffHire\"\n",
    "    print('Set Status=OF Rate Limit')\n",
    "if NoneHireLimit:\n",
    "    prob += lpSum(var * noneHireStatus) <= NoneHireLimit * lpSum(var), \"NoneHire\"\n",
    "    print('Set Status=None Rate Limit') \n",
    "  \n",
    "# container age\n",
    "if fleetAgeAvgLimit:\n",
    "    print('Set Container Average Age Limit')\n",
    "    if fleetAgeAvgGeq:\n",
    "        prob += lpSum(var * fleetAgeAvg) >= fleetAgeAvgLimit * lpSum(var), \"FleetAgeAvg>\"\n",
    "    else:\n",
    "        prob += lpSum(var * fleetAgeAvg) <= fleetAgeAvgLimit * lpSum(var), \"FleetAgeAvg<\"\n",
    "for i in range(numLimit):\n",
    "    if fleetAgeLimit[i]:\n",
    "        print('Set Container Age Limit', i)\n",
    "        if fleetAgeGeq[i]:\n",
    "            prob += lpSum(var * fleetAge[i]) >= fleetAgeLimit[i] * lpSum(var), \"FleetAge{0}>\".format(i)\n",
    "        else:\n",
    "            prob += lpSum(var * fleetAge[i]) <= fleetAgeLimit[i] * lpSum(var), \"FleetAge{0}<\".format(i)\n",
    "\n",
    "# weighted age\n",
    "if weightedAgeAvgLimit:\n",
    "    print('Set Weighted Average Age Limit')\n",
    "    if weightedAgeAvgGeq:\n",
    "        prob += lpSum(var * weightedAgeAvg) >= weightedAgeAvgLimit * lpSum(var * ceu), \"WeightedAgeAvg>\"\n",
    "    else:\n",
    "        prob += lpSum(var * weightedAgeAvg) <= weightedAgeAvgLimit * lpSum(var * ceu), \"WeightedAgeAvg<\"\n",
    "for i in range(numLimit):\n",
    "    if weightedAgeLimit[i]:\n",
    "        print('Set Weighted Age Limit', i)\n",
    "        if weightedAgeGeq[i]:\n",
    "            prob += lpSum(var * weightedAge[i]) >= weightedAgeLimit[i] * lpSum(var * ceu), \"WeightedAge{0}>\".format(i)\n",
    "        else:\n",
    "            prob += lpSum(var * weightedAge[i]) <= weightedAgeLimit[i] * lpSum(var * ceu), \"WeightedAge{0}<\".format(i)\n",
    "\n",
    "# product\n",
    "for i in range(numLimit):\n",
    "    if productLimit[i]:\n",
    "        print('Set Produdct Limit', i)\n",
    "        if productGeq[i]:\n",
    "            prob += lpSum(var * product[i]) >= productLimit[i] * lpSum(var), \"Product{0}>\".format(i)\n",
    "        else:\n",
    "            prob += lpSum(var * product[i]) <= productLimit[i] * lpSum(var), \"Product{0}<\".format(i)\n",
    "\n",
    "# lessee\n",
    "for i in range(numLimit):\n",
    "    if lesseeLimit[i] and lesseeType[i] in lesseeOneHot:\n",
    "        print('Set Lessee Limit', i)\n",
    "        if lesseeGeq[i]:\n",
    "            prob += lpSum(var * lesseeOneHot[lesseeType[i]] * ceu) >= lesseeLimit[i] * lpSum(var * ceu), \"Lessee{0}>\".format(i)\n",
    "        else:\n",
    "            prob += lpSum(var * lesseeOneHot[lesseeType[i]] * ceu) <= lesseeLimit[i] * lpSum(var * ceu), \"Lessee{0}<\".format(i)\n",
    "\n",
    "# # find top1, top2, top3\n",
    "# for i in range(min(3, len(lesseeOneHot)), 0, -1):\n",
    "#     if topLesseeLimit[i-1]:\n",
    "#         print('Set Top{0} Limit'.format(i))\n",
    "#         if topLesseeGeq[i-1]:\n",
    "#             prob += lpSum(var * ceu * SortTop(list({j: value(lpSum(var * lesseeOneHot[j] * ceu)) for j in lesseeOneHot.keys()}.items()), i)) >= topLesseeLimit[i-1] * lpSum(var * ceu), \"Top{0}>\".format(i)\n",
    "#         else:\n",
    "#             prob += lpSum(var * ceu * SortTop(list({j: value(lpSum(var * lesseeOneHot[j] * ceu)) for j in lesseeOneHot.keys()}.items()), i)) <= topLesseeLimit[i-1] * lpSum(var * ceu), \"Top{0}<\".format(i)\n",
    "\n",
    "prob += lpSum(var * ceu * (SortTop(list({j: value(lpSum(var * lesseeOneHot[j] * ceu)) for j in lesseeOneHot.keys()}.items()), 3) - topLesseeLimit[2] )) <= 0, \"Top3<\"\n",
    "prob += lpSum(var * ceu * (SortTop(list({j: value(lpSum(var * lesseeOneHot[j] * ceu)) for j in lesseeOneHot.keys()}.items()), 1) - topLesseeLimit[0] )) <= 0, \"Top1<\"\n",
    "\n",
    "# contract type\n",
    "for i in range(numLimit):\n",
    "    if contractLimit[i]:\n",
    "        print('Set Contract Type Limit', i)\n",
    "        if contractGeq[i]:\n",
    "            prob += lpSum(var * contract[i]) >= contractLimit[i] * lpSum(var), \"ContractType{0}>\".format(i)\n",
    "        else:\n",
    "            prob += lpSum(var * contract[i]) <= contractLimit[i] * lpSum(var), \"ContractType{0}<\".format(i)\n",
    " \n",
    "# for i in contractOneHot.keys():\n",
    "#     prob += lpSum(var * contractOneHot[i]) >= 100, \"ContractNumLimit{0}\".format(i)\n"
   ]
  },
  {
   "cell_type": "code",
   "execution_count": null,
   "id": "a7c26001",
   "metadata": {},
   "outputs": [],
   "source": [
    "solver = PULP_CBC_CMD(msg = True, timeLimit=200)\n",
    "try:\n",
    "    prob.solve(solver)\n",
    "except PulpSolverError:\n",
    "    print('Nan value is not allowed in model. Please consider data cleaning.')\n",
    "except Exception as e:\n",
    "    print(e)"
   ]
  },
  {
   "cell_type": "code",
   "execution_count": null,
   "id": "27930d6b",
   "metadata": {},
   "outputs": [
    {
     "name": "stdout",
     "output_type": "stream",
     "text": [
      "==============================================================\n",
      "status: Infeasible\n",
      "==============================================================\n",
      "target value:  150000000.12264785\n"
     ]
    }
   ],
   "source": [
    "print(\"==============================================================\")\n",
    "# print(prob)\n",
    "print(\"status:\", LpStatus[prob.status])\n",
    "print(\"==============================================================\")\n",
    "print(\"target value: \", value(prob.objective))"
   ]
  },
  {
   "cell_type": "code",
   "execution_count": 80,
   "id": "0c2690d0",
   "metadata": {},
   "outputs": [
    {
     "name": "stdout",
     "output_type": "stream",
     "text": [
      "33661 / 204504 containers are selected.\n"
     ]
    }
   ],
   "source": [
    "# if solution is found\n",
    "if debug:\n",
    "    result = np.array([var[i].varValue for i in range(len(var))])\n",
    "    print(int(sum(result)), '/', len(result), 'containers are selected.')"
   ]
  },
  {
   "cell_type": "markdown",
   "id": "28575e3f",
   "metadata": {},
   "source": [
    "### Analysis"
   ]
  },
  {
   "cell_type": "code",
   "execution_count": 81,
   "id": "c29fce25",
   "metadata": {},
   "outputs": [
    {
     "name": "stdout",
     "output_type": "stream",
     "text": [
      "33661 / 204504 containers are selected.\n",
      "======================================================================\n",
      "nbv: 149999999.434 between 125000000 - 150000000\n",
      "cost: 166386122.36 between None - None\n",
      "billing status:\n",
      "\t onhire 1.0, -- 0.9\n",
      "container age:\n",
      "weighted age:\n",
      "\t weighted average age is 3.75, -- 3.75\n",
      "product:\n",
      "\t product ['D20', 'D40', 'D4H'] is 0.9616, -- 0.8:\n",
      "lessee:\n",
      "Top lessee:\n",
      "\t top 1 MSC is 0.3398888921897745, -- 0.4\n",
      "\t top 3 MSC HAPAG ONE is 0.601289325926146, -- 0.6\n",
      "contract type:\n",
      "\t contract type ['LC', 'LT', 'LF', 'LP'] is 1.0, -- 1.0:\n"
     ]
    }
   ],
   "source": [
    "if debug:    \n",
    "    result = np.array([var[i].varValue for i in range(len(var))])\n",
    "    print(int(sum(result)), '/', len(result), 'containers are selected.')\n",
    "    print('======================================================================')\n",
    "    print(\"nbv: {0} between {1} - {2}\".format(round(sum(result * nbv), 4), minTotalNbv, maxTotalNbv))\n",
    "    print(\"cost: {0} between {1} - {2}\".format(round(sum(result * cost), 4), minTotalCost, maxTotalCost))\n",
    "    print('billing status:')\n",
    "    if OnHireLimit:\n",
    "        print('\\t onhire {0}, -- {1}'.format(sum(result * onHireStatus)/sum(result), OnHireLimit))\n",
    "    if OffHireLimit:\n",
    "        print('\\t offhire {0}, -- {1}'.format(sum(result * offHireStatus)/sum(result), OffHireLimit))\n",
    "    if NoneHireLimit:\n",
    "        print('\\t none {0}, -- {1}'.format(sum(result * noneHireStatus)/sum(result), NoneHireLimit))\n",
    "\n",
    "    print(\"container age:\")\n",
    "    if fleetAgeAvgLimit:\n",
    "        print('\\t container average age is {0}, -- {1}'.format(round(sum(result * fleetAgeAvg)/sum(result), 4), fleetAgeAvgLimit))\n",
    "    for i in range(numLimit):\n",
    "        if fleetAgeLimit[i]:\n",
    "            print(\"\\t container age from {0} to {1} is {2}, -- {3}:\".format(fleetAgeLowBound[i], fleetAgeUpBound[i], round(sum(result * fleetAge[i])/sum(result), 4), fleetAgeLimit[i]))\n",
    "\n",
    "    print(\"weighted age:\")\n",
    "    if weightedAgeAvgLimit:\n",
    "        print('\\t weighted average age is {0}, -- {1}'.format(round(sum(result * weightedAgeAvg * ceu)/sum(result * ceu), 4), weightedAgeAvgLimit))\n",
    "    for i in range(numLimit):\n",
    "        if weightedAgeLimit[i]:\n",
    "            print(\"\\t weighted age from {0} to {1} is {2}, -- {3}:\".format(weightedAgeLowBound[i], weightedAgeUpBound[i], round(sum(result * weightedAge[i] * ceu)/sum(result * ceu), 4), weightedAgeLimit[i]))    \n",
    "\n",
    "    print(\"product:\")\n",
    "    for i in range(numLimit):\n",
    "        if productLimit[i]:\n",
    "            print(\"\\t product {0} is {1}, -- {2}:\".format(productType[i], round(sum(result * product[i])/sum(result), 4), productLimit[i]))    \n",
    "    \n",
    "    print(\"lessee:\")\n",
    "    for i in range(numLimit):\n",
    "        if lesseeLimit[i]:\n",
    "            print(\"\\t lessee {0} is {1}, -- {2}:\".format(lesseeType[i], round(sum(result * lesseeOneHot[lesseeType[i]] * ceu)/sum(result * ceu), 4), lesseeLimit[i]))    \n",
    "\n",
    "    print('Top lessee:')\n",
    "    numLessee = {lesseeName: value(lpSum(var * lesseeOneHot[lesseeName] * ceu)) for lesseeName in data['customer'].value_counts().index}\n",
    "    sortedLessee = list(numLessee.items())\n",
    "    top3Lessee = heapq.nlargest(3, sortedLessee, key=lambda x:x[1])\n",
    "    if topLesseeLimit[0]:\n",
    "        print('\\t top 1 {0} is {1}, -- {2}'.format(top3Lessee[0][0], top3Lessee[0][1] / sum(result * ceu), topLesseeLimit[0]))\n",
    "    if topLesseeLimit[1]:\n",
    "        if len(top3Lessee) >= 2:\n",
    "            print('\\t top 2 {0} {1} is {2}, -- {3}'.format(top3Lessee[0][0], top3Lessee[1][0], (top3Lessee[0][1] + top3Lessee[1][1]) / sum(result * ceu), topLesseeLimit[1]))\n",
    "        else:\n",
    "            print('Only one lessee.')\n",
    "    if topLesseeLimit[2]:\n",
    "        if len(top3Lessee) >= 3:\n",
    "            print('\\t top 3 {0} {1} {2} is {3}, -- {4}'.format(top3Lessee[0][0], top3Lessee[1][0], top3Lessee[2][0], (top3Lessee[0][1] + top3Lessee[1][1] + top3Lessee[2][1])/ sum(result * ceu), topLesseeLimit[2]))\n",
    "        else:\n",
    "            print('Only two lessee.')\n",
    "            \n",
    "    print(\"contract type:\")\n",
    "    for i in range(numLimit):\n",
    "        if contractLimit[i]:\n",
    "            print(\"\\t contract type {0} is {1}, -- {2}:\".format(contractType[i], round(sum(result * contract[i])/sum(result), 4), contractLimit[i])) \n",
    "    print(\"contract number:\")\n"
   ]
  },
  {
   "cell_type": "markdown",
   "id": "fc3a6384",
   "metadata": {},
   "source": [
    "### Output"
   ]
  },
  {
   "cell_type": "code",
   "execution_count": 24,
   "id": "7d7bbec0",
   "metadata": {},
   "outputs": [
    {
     "data": {
      "text/plain": [
       "(204504, 10)"
      ]
     },
     "execution_count": 24,
     "metadata": {},
     "output_type": "execute_result"
    }
   ],
   "source": [
    "data = data[['unit_id', 'contract_num', 'cost', 'product', 'customer', 'contract', 'nbv', 'billing', 'fleet_year', 'weighted_age']]\n",
    "data.columns = ['Unit Id Fz', 'Contract Num', 'Cost', 'Product', 'Contract Cust Id', 'Contract Lease Type', 'Nbv', 'Billing Status Fz', 'Fleet Year Fz', 'Age x CEU']\n",
    "data.shape"
   ]
  },
  {
   "cell_type": "code",
   "execution_count": 25,
   "id": "810c2869",
   "metadata": {},
   "outputs": [
    {
     "data": {
      "text/html": [
       "<div>\n",
       "<style scoped>\n",
       "    .dataframe tbody tr th:only-of-type {\n",
       "        vertical-align: middle;\n",
       "    }\n",
       "\n",
       "    .dataframe tbody tr th {\n",
       "        vertical-align: top;\n",
       "    }\n",
       "\n",
       "    .dataframe thead th {\n",
       "        text-align: right;\n",
       "    }\n",
       "</style>\n",
       "<table border=\"1\" class=\"dataframe\">\n",
       "  <thead>\n",
       "    <tr style=\"text-align: right;\">\n",
       "      <th></th>\n",
       "      <th>selected</th>\n",
       "      <th>Unit Id Fz</th>\n",
       "      <th>Contract Num</th>\n",
       "      <th>Cost</th>\n",
       "      <th>Product</th>\n",
       "      <th>Contract Cust Id</th>\n",
       "      <th>Contract Lease Type</th>\n",
       "      <th>Nbv</th>\n",
       "      <th>Billing Status Fz</th>\n",
       "      <th>Fleet Year Fz</th>\n",
       "      <th>Age x CEU</th>\n",
       "    </tr>\n",
       "  </thead>\n",
       "  <tbody>\n",
       "    <tr>\n",
       "      <th>86290</th>\n",
       "      <td>0.0</td>\n",
       "      <td>DFSU2856710</td>\n",
       "      <td>LT-KMTC-13</td>\n",
       "      <td>2704.0</td>\n",
       "      <td>D20</td>\n",
       "      <td>KMTC</td>\n",
       "      <td>LT</td>\n",
       "      <td>1220.344</td>\n",
       "      <td>ON</td>\n",
       "      <td>11.48</td>\n",
       "      <td>11.48</td>\n",
       "    </tr>\n",
       "  </tbody>\n",
       "</table>\n",
       "</div>"
      ],
      "text/plain": [
       "       selected   Unit Id Fz Contract Num    Cost Product Contract Cust Id  \\\n",
       "86290       0.0  DFSU2856710   LT-KMTC-13  2704.0     D20             KMTC   \n",
       "\n",
       "      Contract Lease Type       Nbv Billing Status Fz  Fleet Year Fz  \\\n",
       "86290                  LT  1220.344                ON          11.48   \n",
       "\n",
       "       Age x CEU  \n",
       "86290      11.48  "
      ]
     },
     "execution_count": 25,
     "metadata": {},
     "output_type": "execute_result"
    }
   ],
   "source": [
    "data.insert(loc=0, column=\"selected\", value=result)\n",
    "data.to_csv('demo_result.csv')\n",
    "data.sample()\n"
   ]
  },
  {
   "cell_type": "code",
   "execution_count": 26,
   "id": "bae68948",
   "metadata": {},
   "outputs": [
    {
     "data": {
      "text/html": [
       "<div>\n",
       "<style scoped>\n",
       "    .dataframe tbody tr th:only-of-type {\n",
       "        vertical-align: middle;\n",
       "    }\n",
       "\n",
       "    .dataframe tbody tr th {\n",
       "        vertical-align: top;\n",
       "    }\n",
       "\n",
       "    .dataframe thead th {\n",
       "        text-align: right;\n",
       "    }\n",
       "</style>\n",
       "<table border=\"1\" class=\"dataframe\">\n",
       "  <thead>\n",
       "    <tr style=\"text-align: right;\">\n",
       "      <th></th>\n",
       "      <th>selected</th>\n",
       "      <th>Unit Id Fz</th>\n",
       "      <th>Contract Num</th>\n",
       "      <th>Cost</th>\n",
       "      <th>Product</th>\n",
       "      <th>Contract Cust Id</th>\n",
       "      <th>Contract Lease Type</th>\n",
       "      <th>Nbv</th>\n",
       "      <th>Billing Status Fz</th>\n",
       "      <th>Fleet Year Fz</th>\n",
       "      <th>Age x CEU</th>\n",
       "    </tr>\n",
       "  </thead>\n",
       "  <tbody>\n",
       "    <tr>\n",
       "      <th>120323</th>\n",
       "      <td>1.0</td>\n",
       "      <td>DFSU1016216</td>\n",
       "      <td>LT-MSC-36B</td>\n",
       "      <td>2820.0</td>\n",
       "      <td>D20</td>\n",
       "      <td>MSC</td>\n",
       "      <td>LT</td>\n",
       "      <td>-0.09</td>\n",
       "      <td>ON</td>\n",
       "      <td>10.97</td>\n",
       "      <td>10.970</td>\n",
       "    </tr>\n",
       "    <tr>\n",
       "      <th>94955</th>\n",
       "      <td>0.0</td>\n",
       "      <td>FFAU3936969</td>\n",
       "      <td>LT-MSC-48</td>\n",
       "      <td>5150.0</td>\n",
       "      <td>D4H</td>\n",
       "      <td>MSC</td>\n",
       "      <td>LT</td>\n",
       "      <td>4828.91</td>\n",
       "      <td>ON</td>\n",
       "      <td>1.11</td>\n",
       "      <td>1.887</td>\n",
       "    </tr>\n",
       "  </tbody>\n",
       "</table>\n",
       "</div>"
      ],
      "text/plain": [
       "        selected   Unit Id Fz Contract Num    Cost Product Contract Cust Id  \\\n",
       "120323       1.0  DFSU1016216   LT-MSC-36B  2820.0     D20              MSC   \n",
       "94955        0.0  FFAU3936969    LT-MSC-48  5150.0     D4H              MSC   \n",
       "\n",
       "       Contract Lease Type      Nbv Billing Status Fz  Fleet Year Fz  \\\n",
       "120323                  LT    -0.09                ON          10.97   \n",
       "94955                   LT  4828.91                ON           1.11   \n",
       "\n",
       "        Age x CEU  \n",
       "120323     10.970  \n",
       "94955       1.887  "
      ]
     },
     "execution_count": 26,
     "metadata": {},
     "output_type": "execute_result"
    }
   ],
   "source": [
    "data.sample(2)"
   ]
  },
  {
   "cell_type": "code",
   "execution_count": null,
   "id": "d04e345b",
   "metadata": {},
   "outputs": [],
   "source": []
  }
 ],
 "metadata": {
  "kernelspec": {
   "display_name": "Python 3",
   "language": "python",
   "name": "python3"
  },
  "language_info": {
   "codemirror_mode": {
    "name": "ipython",
    "version": 3
   },
   "file_extension": ".py",
   "mimetype": "text/x-python",
   "name": "python",
   "nbconvert_exporter": "python",
   "pygments_lexer": "ipython3",
   "version": "3.6.13"
  },
  "toc": {
   "base_numbering": 1,
   "nav_menu": {},
   "number_sections": true,
   "sideBar": true,
   "skip_h1_title": false,
   "title_cell": "Table of Contents",
   "title_sidebar": "Contents",
   "toc_cell": false,
   "toc_position": {},
   "toc_section_display": true,
   "toc_window_display": false
  },
  "vscode": {
   "interpreter": {
    "hash": "1e335e686b339f85b85fb05929c8f6be9d5eff29f30156b286c1453d4c012bd1"
   }
  }
 },
 "nbformat": 4,
 "nbformat_minor": 5
}
